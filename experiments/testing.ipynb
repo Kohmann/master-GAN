{
 "cells": [
  {
   "cell_type": "code",
   "execution_count": 2,
   "metadata": {
    "collapsed": true
   },
   "outputs": [],
   "source": [
    "import torch\n",
    "import numpy"
   ]
  },
  {
   "cell_type": "markdown",
   "source": [
    "#### What exactly an LSTM returns and shapes the data"
   ],
   "metadata": {
    "collapsed": false
   }
  },
  {
   "cell_type": "code",
   "execution_count": 25,
   "outputs": [
    {
     "data": {
      "text/plain": "(tensor([[[-0.1084,  0.0906,  0.1065],\n          [-0.2020,  0.1347,  0.1335],\n          [-0.2400,  0.1564,  0.1305]]], grad_fn=<TransposeBackward0>),\n (tensor([[[-0.2400,  0.1564,  0.1305]]], grad_fn=<StackBackward0>),\n  tensor([[[-0.5655,  0.6080,  1.1735]]], grad_fn=<StackBackward0>)))"
     },
     "execution_count": 25,
     "metadata": {},
     "output_type": "execute_result"
    }
   ],
   "source": [
    "input_tensor = torch.tensor([[[1., 1., 1.],\n",
    "                              [2., 2., 2.],\n",
    "                              [3., 3., 3.]]])\n",
    "input_size = input_tensor.size(-1)\n",
    "hidden_size = 3\n",
    "lstm = torch.nn.LSTM(input_size=input_size,\n",
    "                     hidden_size=hidden_size,\n",
    "                     num_layers=1,\n",
    "                     batch_first=True)\n",
    "output, (h_n, c_n) = lstm(input_tensor)\n",
    "output, (h_n, c_n)"
   ],
   "metadata": {
    "collapsed": false
   }
  },
  {
   "cell_type": "code",
   "execution_count": 32,
   "outputs": [
    {
     "name": "stdout",
     "output_type": "stream",
     "text": [
      "output size: torch.Size([1, 3, 3]), (batch_size, seq_len, H_out)\n",
      "h_n size:    torch.Size([1, 1, 3]), (batch_size, num_layers, H_out)\n",
      "c_n size:    torch.Size([1, 1, 3]), (num_layers, batch_size, H_cell)\n"
     ]
    }
   ],
   "source": [
    "print(f\"output size: {output.size()}, (batch_size, seq_len, H_out)\")\n",
    "print(f\"h_n size:    {h_n.size()}, (batch_size, num_layers, H_out)\")\n",
    "print(f\"c_n size:    {c_n.size()}, (num_layers, batch_size, H_cell)\")"
   ],
   "metadata": {
    "collapsed": false
   }
  },
  {
   "cell_type": "code",
   "execution_count": 48,
   "outputs": [],
   "source": [
    "input_tensor = torch.tensor([[[1., 1., 1.],\n",
    "                              [2., 2., 2.],\n",
    "                              [3., 3., 3.],\n",
    "                              [4., 4., 4.]]])"
   ],
   "metadata": {
    "collapsed": false
   }
  },
  {
   "cell_type": "code",
   "execution_count": 49,
   "outputs": [
    {
     "data": {
      "text/plain": "tensor([[[1., 2., 3., 4.],\n         [1., 2., 3., 4.],\n         [1., 2., 3., 4.]]])"
     },
     "execution_count": 49,
     "metadata": {},
     "output_type": "execute_result"
    }
   ],
   "source": [
    "x = input_tensor\n",
    "x = x.permute(0, 2, 1)\n",
    "x"
   ],
   "metadata": {
    "collapsed": false
   }
  },
  {
   "cell_type": "code",
   "execution_count": null,
   "outputs": [],
   "source": [],
   "metadata": {
    "collapsed": false
   }
  }
 ],
 "metadata": {
  "kernelspec": {
   "display_name": "Python 3",
   "language": "python",
   "name": "python3"
  },
  "language_info": {
   "codemirror_mode": {
    "name": "ipython",
    "version": 2
   },
   "file_extension": ".py",
   "mimetype": "text/x-python",
   "name": "python",
   "nbconvert_exporter": "python",
   "pygments_lexer": "ipython2",
   "version": "2.7.6"
  }
 },
 "nbformat": 4,
 "nbformat_minor": 0
}
