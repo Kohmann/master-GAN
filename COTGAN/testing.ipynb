{
 "cells": [
  {
   "cell_type": "code",
   "execution_count": null,
   "metadata": {
    "collapsed": true
   },
   "outputs": [],
   "source": [
    "import torch\n",
    "import numpy"
   ]
  },
  {
   "cell_type": "markdown",
   "source": [
    "#### What exactly an LSTM returns and shapes the data"
   ],
   "metadata": {
    "collapsed": false
   }
  },
  {
   "cell_type": "code",
   "execution_count": null,
   "outputs": [],
   "source": [
    "input_tensor = torch.tensor([[[1., 1., 1.],\n",
    "                              [2., 2., 2.],\n",
    "                              [3., 3., 3.]]])\n",
    "input_size = input_tensor.size(-1)\n",
    "hidden_size = 3\n",
    "lstm = torch.nn.LSTM(input_size=input_size,\n",
    "                     hidden_size=hidden_size,\n",
    "                     num_layers=1,\n",
    "                     batch_first=True)\n",
    "output, (h_n, c_n) = lstm(input_tensor)\n",
    "output, (h_n, c_n)"
   ],
   "metadata": {
    "collapsed": false
   }
  },
  {
   "cell_type": "code",
   "execution_count": null,
   "outputs": [],
   "source": [
    "print(f\"output size: {output.size()}, (batch_size, seq_len, H_out)\")\n",
    "print(f\"h_n size:    {h_n.size()}, (batch_size, num_layers, H_out)\")\n",
    "print(f\"c_n size:    {c_n.size()}, (num_layers, batch_size, H_cell)\")"
   ],
   "metadata": {
    "collapsed": false
   }
  },
  {
   "cell_type": "code",
   "execution_count": null,
   "outputs": [],
   "source": [
    "input_tensor = torch.tensor([[[1., 1., 1.],\n",
    "                              [2., 2., 2.],\n",
    "                              [3., 3., 3.],\n",
    "                              [4., 4., 4.]]])"
   ],
   "metadata": {
    "collapsed": false
   }
  },
  {
   "cell_type": "code",
   "execution_count": null,
   "outputs": [],
   "source": [
    "x = input_tensor\n",
    "x = x.permute(0, 2, 1)\n",
    "x"
   ],
   "metadata": {
    "collapsed": false
   }
  },
  {
   "cell_type": "markdown",
   "source": [
    "## Setting generator seeds"
   ],
   "metadata": {
    "collapsed": false
   }
  },
  {
   "cell_type": "code",
   "execution_count": 23,
   "outputs": [
    {
     "name": "stdout",
     "output_type": "stream",
     "text": [
      "The autoreload extension is already loaded. To reload it, use:\n",
      "  %reload_ext autoreload\n",
      "sin1 freq:[1, 3], phase:[-1.5707963267948966, 0]\n",
      "sin2 freq:[4, 6], phase:[0, 1.5707963267948966]\n"
     ]
    }
   ],
   "source": [
    "%load_ext autoreload\n",
    "%autoreload\n",
    "\n",
    "from architectures import COTGAN\n",
    "from utils import DatasetSinus, log_visualizations\n",
    "from trainer import cotgan_trainer, cotgan_generator\n",
    "from metrics import *\n",
    "import numpy as np\n",
    "import torch\n",
    "import matplotlib.pyplot as plt\n",
    "\n",
    "seed = 42\n",
    "alpha = 0.7\n",
    "noise = 0\n",
    "np.random.seed(seed)\n",
    "torch.manual_seed(seed)\n",
    "\n",
    "device = \"cpu\"\n",
    "trainset = DatasetSinus(num=6*12, seq_len=25, alpha=alpha, noise=noise, device=device)"
   ],
   "metadata": {
    "collapsed": false
   }
  },
  {
   "cell_type": "code",
   "execution_count": 24,
   "outputs": [
    {
     "data": {
      "text/plain": "torch.Size([6, 25, 3])"
     },
     "execution_count": 24,
     "metadata": {},
     "output_type": "execute_result"
    }
   ],
   "source": [
    "trainset[:6][0].shape"
   ],
   "metadata": {
    "collapsed": false
   }
  },
  {
   "cell_type": "code",
   "execution_count": 25,
   "outputs": [],
   "source": [
    "params = {\n",
    "    \"model_name\": \"model_cotgan.pt\",\n",
    "    \"n_epochs\": 1,\n",
    "    \"l_rate\": 0.001, # for both D and G\n",
    "    \"batch_size\": 32,\n",
    "    \"dis_rnn_num_layers\": 1,\n",
    "    #\"dis_rnn_hidden_dim\": 20,\n",
    "    \"gen_rnn_num_layers\": 2,\n",
    "    \"gen_rnn_hidden_dim\": 5,\n",
    "    \"hidden_dim\": 10, # generator: hidden dim in FC, discriminator: filters in Convolution\n",
    "    \"num_hidden_layers\": 2, # generator fully-connected layers\n",
    "\n",
    "    \"scaling_coef\": 1.0, # distance scaling (TODO(Not implemented))\n",
    "    \"sinkhorn_eps\": 0.8, # epsilon regularizer\n",
    "    \"sinkhorn_l\":   100, # sinkhorn calculation iterations\n",
    "    \"reg_lam\":      10.0, # martingale penalty coefficient\n",
    "\n",
    "    \"Z_dim\": 20,\n",
    "    \"optimizer\": \"Adam\", # RMSprop, Adam\n",
    "    \"beta1\": 0.5,\n",
    "    \"beta2\": 0.9,\n",
    "    \"dataset\": \"sines\",\n",
    "    \"feature_dim\": trainset[0][0].size(1),\n",
    "    \"max_seq_len\": trainset[0][0].size(0),\n",
    "    \"trainset_size\": len(trainset),\n",
    "    \"device\": device,\n",
    "}\n",
    "\n",
    "model = COTGAN(params)"
   ],
   "metadata": {
    "collapsed": false
   }
  },
  {
   "cell_type": "code",
   "execution_count": 26,
   "outputs": [],
   "source": [
    "z1 = torch.randn(6,params[\"max_seq_len\"], params[\"Z_dim\"])\n",
    "z2 = torch.randn(6,params[\"max_seq_len\"], params[\"Z_dim\"])\n",
    "\n",
    "x1 = trainset[:6][0]\n",
    "x2 = trainset[6:12][0]"
   ],
   "metadata": {
    "collapsed": false
   }
  },
  {
   "cell_type": "code",
   "execution_count": 33,
   "outputs": [
    {
     "data": {
      "text/plain": "tensor(3.3174, grad_fn=<AddBackward0>)"
     },
     "execution_count": 33,
     "metadata": {},
     "output_type": "execute_result"
    }
   ],
   "source": [
    "model(z1,z2,x1,x2, obj=\"discriminator\")"
   ],
   "metadata": {
    "collapsed": false
   }
  },
  {
   "cell_type": "code",
   "execution_count": 32,
   "outputs": [
    {
     "data": {
      "text/plain": "torch.Size([6, 25, 3])"
     },
     "execution_count": 32,
     "metadata": {},
     "output_type": "execute_result"
    }
   ],
   "source": [
    "x1.size()"
   ],
   "metadata": {
    "collapsed": false
   }
  },
  {
   "cell_type": "code",
   "execution_count": null,
   "outputs": [],
   "source": [],
   "metadata": {
    "collapsed": false
   }
  }
 ],
 "metadata": {
  "kernelspec": {
   "display_name": "Python 3",
   "language": "python",
   "name": "python3"
  },
  "language_info": {
   "codemirror_mode": {
    "name": "ipython",
    "version": 2
   },
   "file_extension": ".py",
   "mimetype": "text/x-python",
   "name": "python",
   "nbconvert_exporter": "python",
   "pygments_lexer": "ipython2",
   "version": "2.7.6"
  }
 },
 "nbformat": 4,
 "nbformat_minor": 0
}
