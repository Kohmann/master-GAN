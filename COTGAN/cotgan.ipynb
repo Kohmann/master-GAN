{
 "cells": [
  {
   "cell_type": "code",
   "execution_count": 1,
   "metadata": {
    "collapsed": true
   },
   "outputs": [],
   "source": [
    "%reload_ext autoreload\n",
    "#!pip install -r requirements.txt"
   ]
  },
  {
   "cell_type": "code",
   "execution_count": 2,
   "outputs": [
    {
     "name": "stdout",
     "output_type": "stream",
     "text": [
      "sin1 freq:[1, 3], phase:[-1.5707963267948966, 0]\n",
      "sin2 freq:[4, 6], phase:[0, 1.5707963267948966]\n",
      "sin1 freq:[1, 3], phase:[-1.5707963267948966, 0]\n",
      "sin2 freq:[4, 6], phase:[0, 1.5707963267948966]\n",
      "384\n",
      "torch.Size([25, 3])\n"
     ]
    }
   ],
   "source": [
    "%autoreload\n",
    "from architectures import COTGAN\n",
    "from utils import DatasetSinus, log_visualizations\n",
    "from trainer import cotgan_trainer, cotgan_generator\n",
    "from metrics import *\n",
    "import numpy as np\n",
    "import torch\n",
    "import matplotlib.pyplot as plt\n",
    "\n",
    "seed = 42\n",
    "alpha = 0.7\n",
    "noise = 0\n",
    "np.random.seed(seed)\n",
    "\n",
    "if torch.backends.mps.is_available():\n",
    "    device = \"mps\"\n",
    "elif torch.cuda.is_available():\n",
    "    device = \"cuda\"\n",
    "else:\n",
    "    device = \"cpu\"\n",
    "\n",
    "trainset = DatasetSinus(num=1536, seq_len=25, alpha=alpha, noise=noise, device=device)\n",
    "testset = DatasetSinus(num=32*2*6, seq_len=25, alpha=alpha, noise=noise, device=\"cpu\")\n",
    "\n",
    "print(len(testset))\n",
    "print(testset[0][0].size())\n",
    "\n",
    "#plt.plot(trainset[1][0]);"
   ],
   "metadata": {
    "collapsed": false
   }
  },
  {
   "cell_type": "code",
   "execution_count": 3,
   "outputs": [
    {
     "name": "stdout",
     "output_type": "stream",
     "text": [
      "https://app.neptune.ai/kohmann/COTGAN/e/COT-75\n",
      "Remember to stop your run once you’ve finished logging your metadata (https://docs.neptune.ai/api/run#stop). It will be stopped automatically only when the notebook kernel/interactive console is terminated.\n"
     ]
    },
    {
     "name": "stderr",
     "output_type": "stream",
     "text": [
      "/Users/kohmann/Documents/Studie/2022 Høst/master-GAN/venv/lib/python3.9/site-packages/neptune/new/handler.py:168: NeptuneDeprecationWarning: The object you're logging will be implicitly cast to a string. We'll end support of this behavior in `neptune-client==1.0.0`. To log the object as a string, use `str(object)` instead.\n",
      "  self._container.define(self._path, value, wait)\n",
      "Epoch: 99, G: 4.7851, D: 4.4957: 100%|██████████| 100/100 [11:34<00:00,  6.95s/it] \n"
     ]
    },
    {
     "name": "stdout",
     "output_type": "stream",
     "text": [
      "\n",
      "Generating Data...Done\n"
     ]
    },
    {
     "name": "stderr",
     "output_type": "stream",
     "text": [
      "/Users/kohmann/Documents/Studie/2022 Høst/master-GAN/venv/lib/python3.9/site-packages/sklearn/manifold/_t_sne.py:800: FutureWarning: The default initialization in TSNE will change from 'random' to 'pca' in 1.2.\n",
      "  warnings.warn(\n",
      "/Users/kohmann/Documents/Studie/2022 Høst/master-GAN/venv/lib/python3.9/site-packages/sklearn/manifold/_t_sne.py:810: FutureWarning: The default learning rate in TSNE will change from 200.0 to 'auto' in 1.2.\n",
      "  warnings.warn(\n"
     ]
    },
    {
     "name": "stdout",
     "output_type": "stream",
     "text": [
      "Real std:  [0.5111541 0.4607961]\n",
      "Fake std:  [0.17296816 0.3128212 ]\n",
      "sin1 freq:[1, 3], phase:[-1.5707963267948966, 0]\n",
      "sin2 freq:[4, 6], phase:[0, 1.5707963267948966]\n",
      "\n",
      "Generating Data...Done\n",
      "MSE Error: 0.05294\n",
      "Shutting down background jobs, please wait a moment...\n",
      "Done!\n",
      "Waiting for the remaining 27 operations to synchronize with Neptune. Do not kill this process.\n"
     ]
    },
    {
     "name": "stderr",
     "output_type": "stream",
     "text": [
      "/Users/kohmann/Documents/Studie/2022 Høst/master-GAN/COTGAN/metrics.py:16: UserWarning: Creating a tensor from a list of numpy.ndarrays is extremely slow. Please consider converting the list to a single numpy.ndarray with numpy.array() before converting to a tensor. (Triggered internally at /Users/runner/work/pytorch/pytorch/pytorch/torch/csrc/utils/tensor_new.cpp:233.)\n",
      "  sins3_fake = torch.tensor(sins3_fake)\n"
     ]
    },
    {
     "name": "stdout",
     "output_type": "stream",
     "text": [
      "All 27 operations synced, thanks for waiting!\n",
      "Explore the metadata in the Neptune app:\n",
      "https://app.neptune.ai/kohmann/COTGAN/e/COT-75\n"
     ]
    }
   ],
   "source": [
    "%autoreload\n",
    "import neptune.new as neptune\n",
    "\n",
    "run = neptune.init_run(\n",
    "    project=\"kohmann/COTGAN\",\n",
    "    name=\"cotgan\",\n",
    "    tags=[\"testing\"],\n",
    "    description=\"\",\n",
    "    source_files=[\"architecture.py\"],\n",
    "    capture_hardware_metrics=False,\n",
    "    api_token=\"eyJhcGlfYWRkcmVzcyI6Imh0dHBzOi8vYXBwLm5lcHR1bmUuYWkiLCJhcGlfdXJsIjoiaHR0cHM6Ly9hcHAubmVwdHVuZS5haSIsImFwaV9rZXkiOiI3YjFjNGY5MS1kOWU1LTRmZjgtOTNiYS0yOGI2NDdjZGYzNWUifQ==\",\n",
    ")\n",
    "\n",
    "params = {\n",
    "    \"model_name\": \"model_cotgan.pt\",\n",
    "    \"n_epochs\": 100,\n",
    "    \"l_rate\": 0.001, # for both D and G\n",
    "    \"batch_size\": 32,\n",
    "    #\"dis_rnn_num_layers\": 2,\n",
    "    #\"dis_rnn_hidden_dim\": 20,\n",
    "    \"gen_rnn_num_layers\": 1,\n",
    "    \"gen_rnn_hidden_dim\": 64,\n",
    "    \"hidden_dim\": 64, #\n",
    "    \"scaling_coef\": 1.0, # distance scaling (TODO(Not implemented))\n",
    "    \"sinkhorn_eps\": 0.5, # epsilon regularizer\n",
    "    \"sinkhorn_l\": 100, # sinkhorn calculation iterations\n",
    "    \"reg_lam\": 0.1, # martingale penalty coefficient\n",
    "    \"Z_dim\": 100,\n",
    "    \"optimizer\": \"Adam\", # RMSprop, Adam\n",
    "    \"beta1\": 0.5,\n",
    "    \"beta2\": 0.9,\n",
    "    \"dataset\": \"sines\",\n",
    "    \"feature_dim\": trainset[0][0].size(1),\n",
    "    \"max_seq_len\": trainset[0][0].size(0),\n",
    "    \"trainset_size\": len(trainset),\n",
    "    \"testset_size\": len(testset),\n",
    "    \"device\": device,\n",
    "}\n",
    "\n",
    "run[\"parameters\"] = params\n",
    "run[\"dataset\"] = {\"alpha\":alpha, \"noise\":noise,\n",
    "                  \"s1_freq\": trainset.s1_freq, \"s1_phase\": trainset.s1_phase,\n",
    "                  \"s2_freq\": trainset.s2_freq, \"s2_phase\": trainset.s2_phase}\n",
    "#run.stop()\n",
    "model = COTGAN(params)\n",
    "\n",
    "cotgan_trainer(model, trainset, params, val_dataset=testset, neptune_logger=run, continue_training=False)\n",
    "\n",
    "\n",
    "# Generate random synthetic data\n",
    "gen_z = cotgan_generator(model, params)\n",
    "\n",
    "log_visualizations(testset, gen_z, run) # log pca, tsne, umap, mode_collapse\n",
    "run[\"model_checkpoint\"].upload(\"./models/\" + params[\"model_name\"])\n",
    "\n",
    "from metrics import compare_sin3_generation, sw_approx\n",
    "np.random.seed(41)\n",
    "testset2 = DatasetSinus(num=params[\"testset_size\"], seq_len=params[\"max_seq_len\"], alpha=alpha, noise=noise, device=\"cpu\")\n",
    "fake_data = cotgan_generator(model, params)\n",
    "\n",
    "mse_error = compare_sin3_generation(fake_data, alpha, noise)\n",
    "print(f\"MSE Error: {mse_error:.5f}\")\n",
    "x = torch.tensor(fake_data)\n",
    "y = testset[:][0]\n",
    "y_2 = testset2[:][0]\n",
    "\n",
    "sw_baseline = sw_approx(y,y_2)\n",
    "sw = sw_approx(y,x)\n",
    "\n",
    "run[\"numeric_results/num_test_samples\"] = len(testset)\n",
    "run[\"numeric_results/sin3_generation_MSE_loss\"] = mse_error\n",
    "run[\"numeric_results/SW\"] = sw.item()\n",
    "run[\"numeric_results/SW_baseline\"] = sw_baseline.item()\n",
    "run.stop()\n"
   ],
   "metadata": {
    "collapsed": false
   }
  },
  {
   "cell_type": "code",
   "execution_count": null,
   "outputs": [],
   "source": [],
   "metadata": {
    "collapsed": false
   }
  },
  {
   "cell_type": "code",
   "execution_count": null,
   "outputs": [],
   "source": [],
   "metadata": {
    "collapsed": false
   }
  }
 ],
 "metadata": {
  "kernelspec": {
   "display_name": "Python 3",
   "language": "python",
   "name": "python3"
  },
  "language_info": {
   "codemirror_mode": {
    "name": "ipython",
    "version": 2
   },
   "file_extension": ".py",
   "mimetype": "text/x-python",
   "name": "python",
   "nbconvert_exporter": "python",
   "pygments_lexer": "ipython2",
   "version": "2.7.6"
  }
 },
 "nbformat": 4,
 "nbformat_minor": 0
}
