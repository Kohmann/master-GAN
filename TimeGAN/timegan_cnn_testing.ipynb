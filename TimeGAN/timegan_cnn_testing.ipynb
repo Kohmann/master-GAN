{
 "cells": [
  {
   "cell_type": "code",
   "execution_count": 9,
   "metadata": {
    "tags": []
   },
   "outputs": [],
   "source": [
    "%reload_ext autoreload\n",
    "#!pip install neptune.client"
   ]
  },
  {
   "cell_type": "code",
   "execution_count": 10,
   "metadata": {
    "tags": []
   },
   "outputs": [
    {
     "name": "stdout",
     "output_type": "stream",
     "text": [
      "600\n",
      "torch.Size([100, 3])\n"
     ]
    }
   ],
   "source": [
    "%autoreload\n",
    "from architectures.timegan_cnn import *\n",
    "from utils import *\n",
    "from trainers import *\n",
    "import numpy as np\n",
    "np.random.seed(42)\n",
    "\n",
    "trainset = TimeGANDatasetSinus(num=600, seq_len=100, alpha=0.7, noise=0)\n",
    "testset = TimeGANDatasetSinus(num=300, seq_len=100, alpha=0.7, noise=0)\n",
    "print(len(trainset))\n",
    "print(trainset[0][0].size())\n"
   ]
  },
  {
   "cell_type": "code",
   "execution_count": 4,
   "metadata": {
    "collapsed": false,
    "execution": {
     "iopub.execute_input": "2022-10-17T15:39:45.449272Z",
     "iopub.status.busy": "2022-10-17T15:39:45.448324Z",
     "iopub.status.idle": "2022-10-17T15:53:09.908653Z",
     "shell.execute_reply": "2022-10-17T15:53:09.907749Z",
     "shell.execute_reply.started": "2022-10-17T15:39:45.449243Z"
    },
    "jupyter": {
     "outputs_hidden": false
    }
   },
   "outputs": [
    {
     "name": "stdout",
     "output_type": "stream",
     "text": [
      "https://app.neptune.ai/kohmann/timeGAN/e/TIMEGAN-80\n",
      "Remember to stop your run once you’ve finished logging your metadata (https://docs.neptune.ai/api-reference/run#.stop). It will be stopped automatically only when the notebook kernel/interactive console is terminated.\n",
      "\n",
      "Start Embedding Network Training\n"
     ]
    },
    {
     "name": "stderr",
     "output_type": "stream",
     "text": [
      "Epoch: 399, Loss: 0.0222: 100%|██████████| 400/400 [01:12<00:00,  5.55it/s]\n"
     ]
    },
    {
     "name": "stdout",
     "output_type": "stream",
     "text": [
      "\n",
      "Start Training with Supervised Loss Only\n"
     ]
    },
    {
     "name": "stderr",
     "output_type": "stream",
     "text": [
      "Epoch: 399, Loss: 0.0255: 100%|██████████| 400/400 [00:52<00:00,  7.56it/s]\n"
     ]
    },
    {
     "name": "stdout",
     "output_type": "stream",
     "text": [
      "\n",
      "Start Joint Training\n"
     ]
    },
    {
     "name": "stderr",
     "output_type": "stream",
     "text": [
      "Epoch: 399, E: 0.3537, G: 3.2853, D: 1.8135: 100%|██████████| 400/400 [11:15<00:00,  1.69s/it]\n"
     ]
    },
    {
     "name": "stdout",
     "output_type": "stream",
     "text": [
      "Training Complete and Model Saved\n",
      "\n",
      "Generating Data...Done\n"
     ]
    },
    {
     "name": "stderr",
     "output_type": "stream",
     "text": [
      "/usr/local/lib/python3.9/dist-packages/sklearn/manifold/_t_sne.py:795: FutureWarning: The default initialization in TSNE will change from 'random' to 'pca' in 1.2.\n",
      "  warnings.warn(\n",
      "/usr/local/lib/python3.9/dist-packages/sklearn/manifold/_t_sne.py:805: FutureWarning: The default learning rate in TSNE will change from 200.0 to 'auto' in 1.2.\n",
      "  warnings.warn(\n"
     ]
    },
    {
     "name": "stdout",
     "output_type": "stream",
     "text": [
      "Real std:  [1.0662757 1.0007819]\n",
      "Fake std:  [0.2290751 0.255171 ]\n",
      "Shutting down background jobs, please wait a moment...\n",
      "Done!\n",
      "Waiting for the remaining 29 operations to synchronize with Neptune. Do not kill this process.\n",
      "All 29 operations synced, thanks for waiting!\n",
      "Explore the metadata in the Neptune app:\n",
      "https://app.neptune.ai/kohmann/timeGAN/e/TIMEGAN-80\n"
     ]
    }
   ],
   "source": [
    "%autoreload\n",
    "import neptune.new as neptune\n",
    "\n",
    "run = neptune.init_run(\n",
    "    project=\"kohmann/timeGAN\",\n",
    "    name=\"timegan_cnn\",\n",
    "    tags=[\"cnn\", \"batchnorm\", \"temporal\"],\n",
    "    description=\"New Generator architecutre w/ batchnorm\",\n",
    "    source_files=[\"timegan_cnn.py\"],\n",
    "    capture_hardware_metrics=False,\n",
    "    api_token=\"eyJhcGlfYWRkcmVzcyI6Imh0dHBzOi8vYXBwLm5lcHR1bmUuYWkiLCJhcGlfdXJsIjoiaHR0cHM6Ly9hcHAubmVwdHVuZS5haSIsImFwaV9rZXkiOiI3YjFjNGY5MS1kOWU1LTRmZjgtOTNiYS0yOGI2NDdjZGYzNWUifQ==\",\n",
    ")\n",
    "\n",
    "\n",
    "device = \"cuda\" if torch.cuda.is_available() else \"cpu\"\n",
    "\n",
    "params = {\n",
    "    \"model_name\": \"model_cnn\",\n",
    "    \"n_epochs\": 400,\n",
    "    \"l_rate\": 0.0001,\n",
    "    \"batch_size\": 64,\n",
    "    \"num_layers\": 2,\n",
    "    \"hidden_dim\": 20,\n",
    "    \"Z_dim\": 100,\n",
    "    \"dis_thresh\": 0.15,\n",
    "    \"dataset\": \"sinus\",\n",
    "    \"feature_dim\": trainset[0][0].size(1),\n",
    "    \"max_seq_len\": trainset[0][0].size(0),\n",
    "    \"trainset_size\": len(trainset),\n",
    "    \"device\": device,\n",
    "    \"optimizer\": \"Adam\",\n",
    "}\n",
    "run[\"parameters\"] = params\n",
    "\n",
    "\n",
    "model = TimeGAN(feature_dim=params[\"feature_dim\"],\n",
    "                hidden_dim=params[\"hidden_dim\"],\n",
    "                num_layers=params[\"num_layers\"],\n",
    "                padding_value=0.,\n",
    "                Z_dim=params[\"Z_dim\"],\n",
    "                max_seq_len=params[\"max_seq_len\"],\n",
    "                batch_size=params[\"batch_size\"],\n",
    "                device=torch.device(params[\"device\"]))\n",
    "\n",
    "timegan_trainer(model,\n",
    "                trainset,\n",
    "                batch_size=params[\"batch_size\"],\n",
    "                device=torch.device(params[\"device\"]),\n",
    "                learning_rate=params[\"l_rate\"],\n",
    "                n_epochs=params[\"n_epochs\"],\n",
    "                max_seq_len=params[\"max_seq_len\"],\n",
    "                dis_thresh=params[\"dis_thresh\"],\n",
    "                neptune_logger=run,\n",
    "                model_name=params[\"model_name\"]\n",
    "                )\n",
    "# Generate random synthetic data\n",
    "gen_z = timegan_generator(model, torch.tensor(testset.T), params[\"model_name\"], torch.device(device), testset[0][0].size(0), 100)\n",
    "\n",
    "log_visualizations(testset, gen_z, run) # logs pca, tsne, umap, mode_collapse\n",
    "run[\"model_checkpoint\"].upload(params[\"model_name\"])\n",
    "\n",
    "run.stop()"
   ]
  },
  {
   "cell_type": "code",
   "execution_count": 23,
   "metadata": {
    "collapsed": false,
    "jupyter": {
     "outputs_hidden": false
    }
   },
   "outputs": [
    {
     "name": "stdout",
     "output_type": "stream",
     "text": [
      "\n",
      "Generating Data...Done\n"
     ]
    }
   ],
   "source": [
    "gen_z = timegan_generator(model, torch.tensor(testset.T), \"model_cnn.pt\", torch.device(device), testset[0][0].size(0),\n",
    "                          100)"
   ]
  },
  {
   "cell_type": "code",
   "execution_count": 28,
   "metadata": {
    "collapsed": false,
    "execution": {
     "iopub.execute_input": "2022-10-17T11:12:30.893557Z",
     "iopub.status.busy": "2022-10-17T11:12:30.893212Z",
     "iopub.status.idle": "2022-10-17T11:12:31.012441Z",
     "shell.execute_reply": "2022-10-17T11:12:31.011460Z",
     "shell.execute_reply.started": "2022-10-17T11:12:30.893533Z"
    },
    "jupyter": {
     "outputs_hidden": false
    }
   },
   "outputs": [
    {
     "data": {
      "text/plain": [
       "<matplotlib.legend.Legend at 0x7fc208834c10>"
      ]
     },
     "execution_count": 28,
     "metadata": {},
     "output_type": "execute_result"
    },
    {
     "data": {
      "image/png": "[encoded data removed]",
      "text/plain": [
       "<Figure size 432x288 with 1 Axes>"
      ]
     },
     "metadata": {
      "needs_background": "light"
     },
     "output_type": "display_data"
    }
   ],
   "source": [
    "sample = 1\n",
    "plt.plot(gen_z[sample][:, 0], label=\"gen_sin1\")\n",
    "plt.plot(gen_z[sample][:, 1], label=\"gen_sin2\")\n",
    "#plt.plot(gen_z[sample][:, 2], label=\"gen_sin3\")\n",
    "plt.title(\"Generated sampels\")\n",
    "plt.legend()"
   ]
  },
  {
   "cell_type": "code",
   "execution_count": 29,
   "metadata": {
    "collapsed": false,
    "execution": {
     "iopub.execute_input": "2022-10-17T11:12:36.598618Z",
     "iopub.status.busy": "2022-10-17T11:12:36.597914Z",
     "iopub.status.idle": "2022-10-17T11:12:36.705984Z",
     "shell.execute_reply": "2022-10-17T11:12:36.705212Z",
     "shell.execute_reply.started": "2022-10-17T11:12:36.598590Z"
    },
    "jupyter": {
     "outputs_hidden": false
    }
   },
   "outputs": [
    {
     "data": {
      "text/plain": [
       "<matplotlib.legend.Legend at 0x7fc17c234c10>"
      ]
     },
     "execution_count": 29,
     "metadata": {},
     "output_type": "execute_result"
    },
    {
     "data": {
      "image/png": "[encoded data removed]",
      "text/plain": [
       "<Figure size 432x288 with 1 Axes>"
      ]
     },
     "metadata": {
      "needs_background": "light"
     },
     "output_type": "display_data"
    }
   ],
   "source": [
    "sample = 5\n",
    "real_combo = create_sin3(gen_z[sample][:,0], gen_z[sample][:,0], temporal=True)\n",
    "real_comb_scaled = minmaxscaler().fit_transform(torch.tensor([real_combo]))[0]\n",
    "gen_combo = gen_z[sample][:,2]\n",
    "plt.plot(real_comb_scaled, label=\"true sim3\")\n",
    "plt.plot(gen_combo, label=\"generated sim3\")\n",
    "plt.title(\"sim3 - true vs generated\")\n",
    "plt.legend()"
   ]
  },
  {
   "cell_type": "code",
   "execution_count": 5,
   "metadata": {},
   "outputs": [
    {
     "data": {
      "text/plain": [
       "<matplotlib.legend.Legend at 0x7fc21815ff70>"
      ]
     },
     "execution_count": 5,
     "metadata": {},
     "output_type": "execute_result"
    },
    {
     "data": {
      "image/png": "[encoded data removed]",
      "text/plain": [
       "<Figure size 432x288 with 1 Axes>"
      ]
     },
     "metadata": {
      "needs_background": "light"
     },
     "output_type": "display_data"
    }
   ],
   "source": [
    "sample = trainset.__getitem__(5)\n",
    "plt.plot(sample[0][:,0], label=\"sin1\")\n",
    "plt.plot(sample[0][:,1], label=\"sin2\")\n",
    "plt.plot(sample[0][:,2], label=\"(sin1 + sin2)/2\")\n",
    "plt.title(\"Real data\")\n",
    "plt.legend()"
   ]
  },
  {
   "cell_type": "code",
   "execution_count": 20,
   "metadata": {},
   "outputs": [
    {
     "data": {
      "text/plain": [
       "[<matplotlib.lines.Line2D at 0x7fc190cc5bb0>]"
      ]
     },
     "execution_count": 20,
     "metadata": {},
     "output_type": "execute_result"
    },
    {
     "data": {
      "image/png": "[encoded data removed]",
      "text/plain": [
       "<Figure size 432x288 with 1 Axes>"
      ]
     },
     "metadata": {
      "needs_background": "light"
     },
     "output_type": "display_data"
    }
   ],
   "source": [
    "real_comb = create_sin3(gen_z[sample][:,0], gen_z[sample][:,0], temporal=True)\n",
    "real_comb_scaled = minmaxscaler().fit_transform(torch.tensor([real_combo]))\n",
    "plt.plot(real_comb_scaled[0])"
   ]
  },
  {
   "cell_type": "markdown",
   "metadata": {},
   "source": [
    "### CNN layer testing"
   ]
  },
  {
   "cell_type": "code",
   "execution_count": 11,
   "metadata": {
    "collapsed": false,
    "jupyter": {
     "outputs_hidden": false
    }
   },
   "outputs": [],
   "source": [
    "def printLayerShapes(layers, input):\n",
    "    for layer in layers:\n",
    "        output = layer(input)\n",
    "        print(f\"{type(layer).__name__}: {list(input.size())} --> {list(output.size())}\")\n",
    "        input = output"
   ]
  },
  {
   "cell_type": "code",
   "execution_count": 12,
   "metadata": {
    "collapsed": false,
    "jupyter": {
     "outputs_hidden": false
    }
   },
   "outputs": [
    {
     "name": "stdout",
     "output_type": "stream",
     "text": [
      "Conv1d: [20, 100, 20] --> [20, 20, 8]\n",
      "BatchNorm1d: [20, 20, 8] --> [20, 20, 8]\n",
      "LeakyReLU: [20, 20, 8] --> [20, 20, 8]\n",
      "Conv1d: [20, 20, 8] --> [20, 40, 1]\n",
      "BatchNorm1d: [20, 40, 1] --> [20, 40, 1]\n",
      "LeakyReLU: [20, 40, 1] --> [20, 40, 1]\n",
      "Flatten: [20, 40, 1] --> [20, 40]\n",
      "Linear: [20, 40] --> [20, 1]\n"
     ]
    }
   ],
   "source": [
    "import torch\n",
    "import torch.nn as nn\n",
    "input = torch.randn(20, 100, 20)\n",
    "\n",
    "\n",
    "## Discrininator\n",
    "layers = nn.Sequential(\n",
    "            nn.Conv1d(in_channels=100, out_channels=20, kernel_size=(5), stride=2, bias=False)\n",
    "            #,nn.Flatten(start_dim=1)\n",
    "            ,nn.BatchNorm1d(20)\n",
    "            ,nn.LeakyReLU()\n",
    "            ,nn.Conv1d(in_channels=20, out_channels=40, kernel_size=(7), stride=2, bias=False)\n",
    "            #,nn.Flatten(start_dim=1)\n",
    "            ,nn.BatchNorm1d(40)\n",
    "            ,nn.LeakyReLU()\n",
    "            ,nn.Flatten(start_dim=1)\n",
    "            ,nn.Linear(40, 1)\n",
    "        )\n",
    "printLayerShapes(layers, input)"
   ]
  },
  {
   "cell_type": "code",
   "execution_count": 13,
   "metadata": {
    "collapsed": false,
    "jupyter": {
     "outputs_hidden": false
    }
   },
   "outputs": [
    {
     "name": "stdout",
     "output_type": "stream",
     "text": [
      "Conv1d: [20, 100, 100] --> [20, 100, 48]\n",
      "BatchNorm1d: [20, 100, 48] --> [20, 100, 48]\n",
      "LeakyReLU: [20, 100, 48] --> [20, 100, 48]\n",
      "Conv1d: [20, 100, 48] --> [20, 100, 20]\n"
     ]
    }
   ],
   "source": [
    "## Generator\n",
    "input = torch.randn(20, 100, 100)\n",
    "\n",
    "layers = nn.Sequential(\n",
    "            nn.Conv1d(in_channels=100, out_channels=100, kernel_size=(6), stride=2, bias=False)\n",
    "            , nn.BatchNorm1d(100)\n",
    "            , nn.LeakyReLU()\n",
    "            , nn.Conv1d(in_channels=100, out_channels=100, kernel_size=(9), stride=2, bias=True)\n",
    "        )\n",
    "\n",
    "printLayerShapes(layers, input)"
   ]
  },
  {
   "cell_type": "code",
   "execution_count": 14,
   "metadata": {
    "collapsed": false,
    "jupyter": {
     "outputs_hidden": false
    }
   },
   "outputs": [
    {
     "name": "stdout",
     "output_type": "stream",
     "text": [
      "Conv1d: [20, 100, 20] --> [20, 20, 8]\n",
      "BatchNorm1d: [20, 20, 8] --> [20, 20, 8]\n",
      "LeakyReLU: [20, 20, 8] --> [20, 20, 8]\n",
      "Conv1d: [20, 20, 8] --> [20, 40, 1]\n",
      "BatchNorm1d: [20, 40, 1] --> [20, 40, 1]\n",
      "LeakyReLU: [20, 40, 1] --> [20, 40, 1]\n",
      "Flatten: [20, 40, 1] --> [20, 40]\n",
      "Linear: [20, 40] --> [20, 1]\n"
     ]
    }
   ],
   "source": [
    "input = torch.randn(20, 100, 20)\n",
    "## Discrininator\n",
    "layers = nn.Sequential(\n",
    "            nn.Conv1d(in_channels=100, out_channels=20, kernel_size=(5), stride=2, bias=False)\n",
    "            ,nn.BatchNorm1d(20)\n",
    "            ,nn.LeakyReLU()\n",
    "            ,nn.Conv1d(in_channels=20, out_channels=40, kernel_size=(7), stride=2, bias=False)\n",
    "            ,nn.BatchNorm1d(40)\n",
    "            ,nn.LeakyReLU()\n",
    "            ,nn.Flatten(start_dim=1)\n",
    "            ,nn.Linear(40, 1)\n",
    "        )\n",
    "printLayerShapes(layers, input)"
   ]
  },
  {
   "cell_type": "code",
   "execution_count": 15,
   "metadata": {
    "collapsed": false,
    "jupyter": {
     "outputs_hidden": false
    }
   },
   "outputs": [
    {
     "name": "stdout",
     "output_type": "stream",
     "text": [
      "ConvTranspose1d: [20, 100, 3] --> [20, 100, 10]\n",
      "BatchNorm1d: [20, 100, 10] --> [20, 100, 10]\n",
      "LeakyReLU: [20, 100, 10] --> [20, 100, 10]\n",
      "ConvTranspose1d: [20, 100, 10] --> [20, 100, 20]\n"
     ]
    }
   ],
   "source": [
    "## Embedder\n",
    "input = torch.randn(20, 100, 3)\n",
    "\n",
    "layers = nn.Sequential(\n",
    "            #nn.Conv1d(in_channels=100, out_channels=100, kernel_size=(3), stride=2, bias=False)\n",
    "            nn.ConvTranspose1d(in_channels=100, out_channels=100, kernel_size=(6), stride=2, bias=False)\n",
    "            , nn.BatchNorm1d(100)\n",
    "            , nn.LeakyReLU()\n",
    "            , nn.ConvTranspose1d(in_channels=100, out_channels=100, kernel_size=(2), stride=2, bias=False)\n",
    "        )\n",
    "\n",
    "printLayerShapes(layers, input)"
   ]
  },
  {
   "cell_type": "code",
   "execution_count": 16,
   "metadata": {
    "collapsed": false,
    "jupyter": {
     "outputs_hidden": false
    }
   },
   "outputs": [
    {
     "name": "stdout",
     "output_type": "stream",
     "text": [
      "Conv1d: [20, 100, 20] --> [20, 100, 8]\n",
      "BatchNorm1d: [20, 100, 8] --> [20, 100, 8]\n",
      "LeakyReLU: [20, 100, 8] --> [20, 100, 8]\n",
      "Conv1d: [20, 100, 8] --> [20, 100, 3]\n",
      "Flatten: [20, 100, 3] --> [20, 300]\n",
      "BatchNorm1d: [20, 300] --> [20, 300]\n",
      "LeakyReLU: [20, 300] --> [20, 300]\n",
      "Linear: [20, 300] --> [20, 300]\n"
     ]
    }
   ],
   "source": [
    "## Recovery\n",
    "input = torch.randn(20, 100, 20)\n",
    "layers = nn.Sequential(\n",
    "            nn.Conv1d(in_channels=100, out_channels=100, kernel_size=5, stride=2, bias=False)\n",
    "            , nn.BatchNorm1d(100)\n",
    "            , nn.LeakyReLU()\n",
    "            , nn.Conv1d(in_channels=100, out_channels=100, kernel_size=3, stride=2, bias=False)\n",
    "            ,nn.Flatten(start_dim=1)\n",
    "            ,nn.BatchNorm1d(300)\n",
    "            ,nn.LeakyReLU()\n",
    "            ,nn.Linear(300, 300)\n",
    "        )\n",
    "printLayerShapes(layers, input)"
   ]
  },
  {
   "cell_type": "code",
   "execution_count": 19,
   "metadata": {},
   "outputs": [
    {
     "data": {
      "text/plain": [
       "torch.Size([20, 100, 3])"
      ]
     },
     "execution_count": 19,
     "metadata": {},
     "output_type": "execute_result"
    }
   ],
   "source": [
    "torch.randn(20, 300).view(-1, 100, 3).size()"
   ]
  },
  {
   "cell_type": "code",
   "execution_count": 17,
   "metadata": {
    "collapsed": false,
    "jupyter": {
     "outputs_hidden": false
    }
   },
   "outputs": [],
   "source": [
    "class EmbeddingNetwork(nn.Module):\n",
    "\n",
    "    def __init__(self, feature_dim, hidden_dim, num_layers, padding_value, max_seq_len):\n",
    "        super().__init__()\n",
    "        self.feature_dim = feature_dim\n",
    "        self.hidden_dim = hidden_dim\n",
    "        self.num_layers = num_layers\n",
    "        self.padding_value = padding_value\n",
    "        self.max_seq_len = max_seq_len\n",
    "\n",
    "        self.emb_rnn = nn.GRU(\n",
    "            input_size=self.feature_dim,\n",
    "            hidden_size=self.hidden_dim,\n",
    "            num_layers=self.num_layers,\n",
    "            batch_first=True,\n",
    "        )\n",
    "\n",
    "        self.emb_rnn2 = nn.Conv2d(in_channels=1,\n",
    "                                  out_channels=16,\n",
    "                                  kernel_size=3)\n",
    "\n",
    "\n",
    "        self.emb_linear = nn.Linear(self.hidden_dim, self.hidden_dim)\n",
    "        self.emb_sigmoid = nn.Sigmoid()\n",
    "\n",
    "        rnn_weight_init(self.emb_rnn)\n",
    "        linear_weight_init(self.emb_linear)\n",
    "\n",
    "    def forward(self, X, T):\n",
    "        print(\"Input X:\", X.size())\n",
    "        X_packed = nn.utils.rnn.pack_padded_sequence(\n",
    "            input=X,\n",
    "            lengths=T,\n",
    "            batch_first=True,\n",
    "            enforce_sorted=False\n",
    "        )\n",
    "\n",
    "        H_o, H_t = self.emb_rnn(X_packed)\n",
    "\n",
    "        H_o, T = nn.utils.rnn.pad_packed_sequence(\n",
    "            sequence=H_o,\n",
    "            batch_first=True,\n",
    "            padding_value=self.padding_value,\n",
    "            total_length=self.max_seq_len\n",
    "        )\n",
    "\n",
    "\n",
    "        logits = self.emb_linear(H_o)\n",
    "        H = self.emb_sigmoid(logits)\n",
    "        return H"
   ]
  },
  {
   "cell_type": "code",
   "execution_count": 80,
   "metadata": {
    "collapsed": false,
    "jupyter": {
     "outputs_hidden": false
    }
   },
   "outputs": [
    {
     "name": "stdout",
     "output_type": "stream",
     "text": [
      "Input X: torch.Size([32, 1, 100, 3])\n"
     ]
    },
    {
     "ename": "RuntimeError",
     "evalue": "input must have 2 dimensions, got 3",
     "output_type": "error",
     "traceback": [
      "\u001B[0;31m---------------------------------------------------------------------------\u001B[0m",
      "\u001B[0;31mRuntimeError\u001B[0m                              Traceback (most recent call last)",
      "Cell \u001B[0;32mIn [80], line 20\u001B[0m\n\u001B[1;32m     18\u001B[0m \u001B[38;5;28;01mfor\u001B[39;00m X, T \u001B[38;5;129;01min\u001B[39;00m batched_data:\n\u001B[1;32m     19\u001B[0m     X \u001B[38;5;241m=\u001B[39m X\u001B[38;5;241m.\u001B[39munsqueeze(\u001B[38;5;241m1\u001B[39m)\n\u001B[0;32m---> 20\u001B[0m     pred \u001B[38;5;241m=\u001B[39m model\u001B[38;5;241m.\u001B[39mforward(X, T)\n\u001B[1;32m     21\u001B[0m     \u001B[38;5;28mprint\u001B[39m(pred\u001B[38;5;241m.\u001B[39msize())\n\u001B[1;32m     22\u001B[0m     \u001B[38;5;28;01mbreak\u001B[39;00m\n",
      "Cell \u001B[0;32mIn [79], line 36\u001B[0m, in \u001B[0;36mEmbeddingNetwork.forward\u001B[0;34m(self, X, T)\u001B[0m\n\u001B[1;32m     28\u001B[0m \u001B[38;5;28mprint\u001B[39m(\u001B[38;5;124m\"\u001B[39m\u001B[38;5;124mInput X:\u001B[39m\u001B[38;5;124m\"\u001B[39m, X\u001B[38;5;241m.\u001B[39msize())\n\u001B[1;32m     29\u001B[0m X_packed \u001B[38;5;241m=\u001B[39m nn\u001B[38;5;241m.\u001B[39mutils\u001B[38;5;241m.\u001B[39mrnn\u001B[38;5;241m.\u001B[39mpack_padded_sequence(\n\u001B[1;32m     30\u001B[0m     \u001B[38;5;28minput\u001B[39m\u001B[38;5;241m=\u001B[39mX,\n\u001B[1;32m     31\u001B[0m     lengths\u001B[38;5;241m=\u001B[39mT,\n\u001B[1;32m     32\u001B[0m     batch_first\u001B[38;5;241m=\u001B[39m\u001B[38;5;28;01mTrue\u001B[39;00m,\n\u001B[1;32m     33\u001B[0m     enforce_sorted\u001B[38;5;241m=\u001B[39m\u001B[38;5;28;01mFalse\u001B[39;00m\n\u001B[1;32m     34\u001B[0m )\n\u001B[0;32m---> 36\u001B[0m H_o, H_t \u001B[38;5;241m=\u001B[39m \u001B[38;5;28;43mself\u001B[39;49m\u001B[38;5;241;43m.\u001B[39;49m\u001B[43memb_rnn\u001B[49m\u001B[43m(\u001B[49m\u001B[43mX_packed\u001B[49m\u001B[43m)\u001B[49m\n\u001B[1;32m     38\u001B[0m H_o, T \u001B[38;5;241m=\u001B[39m nn\u001B[38;5;241m.\u001B[39mutils\u001B[38;5;241m.\u001B[39mrnn\u001B[38;5;241m.\u001B[39mpad_packed_sequence(\n\u001B[1;32m     39\u001B[0m     sequence\u001B[38;5;241m=\u001B[39mH_o,\n\u001B[1;32m     40\u001B[0m     batch_first\u001B[38;5;241m=\u001B[39m\u001B[38;5;28;01mTrue\u001B[39;00m,\n\u001B[1;32m     41\u001B[0m     padding_value\u001B[38;5;241m=\u001B[39m\u001B[38;5;28mself\u001B[39m\u001B[38;5;241m.\u001B[39mpadding_value,\n\u001B[1;32m     42\u001B[0m     total_length\u001B[38;5;241m=\u001B[39m\u001B[38;5;28mself\u001B[39m\u001B[38;5;241m.\u001B[39mmax_seq_len\n\u001B[1;32m     43\u001B[0m )\n\u001B[1;32m     46\u001B[0m logits \u001B[38;5;241m=\u001B[39m \u001B[38;5;28mself\u001B[39m\u001B[38;5;241m.\u001B[39memb_linear(H_o)\n",
      "File \u001B[0;32m~/Documents/Studie/2022 Høst/master-GAN/venv/lib/python3.9/site-packages/torch/nn/modules/module.py:1130\u001B[0m, in \u001B[0;36mModule._call_impl\u001B[0;34m(self, *input, **kwargs)\u001B[0m\n\u001B[1;32m   1126\u001B[0m \u001B[38;5;66;03m# If we don't have any hooks, we want to skip the rest of the logic in\u001B[39;00m\n\u001B[1;32m   1127\u001B[0m \u001B[38;5;66;03m# this function, and just call forward.\u001B[39;00m\n\u001B[1;32m   1128\u001B[0m \u001B[38;5;28;01mif\u001B[39;00m \u001B[38;5;129;01mnot\u001B[39;00m (\u001B[38;5;28mself\u001B[39m\u001B[38;5;241m.\u001B[39m_backward_hooks \u001B[38;5;129;01mor\u001B[39;00m \u001B[38;5;28mself\u001B[39m\u001B[38;5;241m.\u001B[39m_forward_hooks \u001B[38;5;129;01mor\u001B[39;00m \u001B[38;5;28mself\u001B[39m\u001B[38;5;241m.\u001B[39m_forward_pre_hooks \u001B[38;5;129;01mor\u001B[39;00m _global_backward_hooks\n\u001B[1;32m   1129\u001B[0m         \u001B[38;5;129;01mor\u001B[39;00m _global_forward_hooks \u001B[38;5;129;01mor\u001B[39;00m _global_forward_pre_hooks):\n\u001B[0;32m-> 1130\u001B[0m     \u001B[38;5;28;01mreturn\u001B[39;00m \u001B[43mforward_call\u001B[49m\u001B[43m(\u001B[49m\u001B[38;5;241;43m*\u001B[39;49m\u001B[38;5;28;43minput\u001B[39;49m\u001B[43m,\u001B[49m\u001B[43m \u001B[49m\u001B[38;5;241;43m*\u001B[39;49m\u001B[38;5;241;43m*\u001B[39;49m\u001B[43mkwargs\u001B[49m\u001B[43m)\u001B[49m\n\u001B[1;32m   1131\u001B[0m \u001B[38;5;66;03m# Do not call functions when jit is used\u001B[39;00m\n\u001B[1;32m   1132\u001B[0m full_backward_hooks, non_full_backward_hooks \u001B[38;5;241m=\u001B[39m [], []\n",
      "File \u001B[0;32m~/Documents/Studie/2022 Høst/master-GAN/venv/lib/python3.9/site-packages/torch/nn/modules/rnn.py:948\u001B[0m, in \u001B[0;36mGRU.forward\u001B[0;34m(self, input, hx)\u001B[0m\n\u001B[1;32m    943\u001B[0m \u001B[38;5;28;01melse\u001B[39;00m:\n\u001B[1;32m    944\u001B[0m     \u001B[38;5;66;03m# Each batch of the hidden state should match the input sequence that\u001B[39;00m\n\u001B[1;32m    945\u001B[0m     \u001B[38;5;66;03m# the user believes he/she is passing in.\u001B[39;00m\n\u001B[1;32m    946\u001B[0m     hx \u001B[38;5;241m=\u001B[39m \u001B[38;5;28mself\u001B[39m\u001B[38;5;241m.\u001B[39mpermute_hidden(hx, sorted_indices)\n\u001B[0;32m--> 948\u001B[0m \u001B[38;5;28;43mself\u001B[39;49m\u001B[38;5;241;43m.\u001B[39;49m\u001B[43mcheck_forward_args\u001B[49m\u001B[43m(\u001B[49m\u001B[38;5;28;43minput\u001B[39;49m\u001B[43m,\u001B[49m\u001B[43m \u001B[49m\u001B[43mhx\u001B[49m\u001B[43m,\u001B[49m\u001B[43m \u001B[49m\u001B[43mbatch_sizes\u001B[49m\u001B[43m)\u001B[49m\n\u001B[1;32m    949\u001B[0m \u001B[38;5;28;01mif\u001B[39;00m batch_sizes \u001B[38;5;129;01mis\u001B[39;00m \u001B[38;5;28;01mNone\u001B[39;00m:\n\u001B[1;32m    950\u001B[0m     result \u001B[38;5;241m=\u001B[39m _VF\u001B[38;5;241m.\u001B[39mgru(\u001B[38;5;28minput\u001B[39m, hx, \u001B[38;5;28mself\u001B[39m\u001B[38;5;241m.\u001B[39m_flat_weights, \u001B[38;5;28mself\u001B[39m\u001B[38;5;241m.\u001B[39mbias, \u001B[38;5;28mself\u001B[39m\u001B[38;5;241m.\u001B[39mnum_layers,\n\u001B[1;32m    951\u001B[0m                      \u001B[38;5;28mself\u001B[39m\u001B[38;5;241m.\u001B[39mdropout, \u001B[38;5;28mself\u001B[39m\u001B[38;5;241m.\u001B[39mtraining, \u001B[38;5;28mself\u001B[39m\u001B[38;5;241m.\u001B[39mbidirectional, \u001B[38;5;28mself\u001B[39m\u001B[38;5;241m.\u001B[39mbatch_first)\n",
      "File \u001B[0;32m~/Documents/Studie/2022 Høst/master-GAN/venv/lib/python3.9/site-packages/torch/nn/modules/rnn.py:229\u001B[0m, in \u001B[0;36mRNNBase.check_forward_args\u001B[0;34m(self, input, hidden, batch_sizes)\u001B[0m\n\u001B[1;32m    228\u001B[0m \u001B[38;5;28;01mdef\u001B[39;00m \u001B[38;5;21mcheck_forward_args\u001B[39m(\u001B[38;5;28mself\u001B[39m, \u001B[38;5;28minput\u001B[39m: Tensor, hidden: Tensor, batch_sizes: Optional[Tensor]):\n\u001B[0;32m--> 229\u001B[0m     \u001B[38;5;28;43mself\u001B[39;49m\u001B[38;5;241;43m.\u001B[39;49m\u001B[43mcheck_input\u001B[49m\u001B[43m(\u001B[49m\u001B[38;5;28;43minput\u001B[39;49m\u001B[43m,\u001B[49m\u001B[43m \u001B[49m\u001B[43mbatch_sizes\u001B[49m\u001B[43m)\u001B[49m\n\u001B[1;32m    230\u001B[0m     expected_hidden_size \u001B[38;5;241m=\u001B[39m \u001B[38;5;28mself\u001B[39m\u001B[38;5;241m.\u001B[39mget_expected_hidden_size(\u001B[38;5;28minput\u001B[39m, batch_sizes)\n\u001B[1;32m    232\u001B[0m     \u001B[38;5;28mself\u001B[39m\u001B[38;5;241m.\u001B[39mcheck_hidden_size(hidden, expected_hidden_size)\n",
      "File \u001B[0;32m~/Documents/Studie/2022 Høst/master-GAN/venv/lib/python3.9/site-packages/torch/nn/modules/rnn.py:201\u001B[0m, in \u001B[0;36mRNNBase.check_input\u001B[0;34m(self, input, batch_sizes)\u001B[0m\n\u001B[1;32m    199\u001B[0m expected_input_dim \u001B[38;5;241m=\u001B[39m \u001B[38;5;241m2\u001B[39m \u001B[38;5;28;01mif\u001B[39;00m batch_sizes \u001B[38;5;129;01mis\u001B[39;00m \u001B[38;5;129;01mnot\u001B[39;00m \u001B[38;5;28;01mNone\u001B[39;00m \u001B[38;5;28;01melse\u001B[39;00m \u001B[38;5;241m3\u001B[39m\n\u001B[1;32m    200\u001B[0m \u001B[38;5;28;01mif\u001B[39;00m \u001B[38;5;28minput\u001B[39m\u001B[38;5;241m.\u001B[39mdim() \u001B[38;5;241m!=\u001B[39m expected_input_dim:\n\u001B[0;32m--> 201\u001B[0m     \u001B[38;5;28;01mraise\u001B[39;00m \u001B[38;5;167;01mRuntimeError\u001B[39;00m(\n\u001B[1;32m    202\u001B[0m         \u001B[38;5;124m'\u001B[39m\u001B[38;5;124minput must have \u001B[39m\u001B[38;5;132;01m{}\u001B[39;00m\u001B[38;5;124m dimensions, got \u001B[39m\u001B[38;5;132;01m{}\u001B[39;00m\u001B[38;5;124m'\u001B[39m\u001B[38;5;241m.\u001B[39mformat(\n\u001B[1;32m    203\u001B[0m             expected_input_dim, \u001B[38;5;28minput\u001B[39m\u001B[38;5;241m.\u001B[39mdim()))\n\u001B[1;32m    204\u001B[0m \u001B[38;5;28;01mif\u001B[39;00m \u001B[38;5;28mself\u001B[39m\u001B[38;5;241m.\u001B[39minput_size \u001B[38;5;241m!=\u001B[39m \u001B[38;5;28minput\u001B[39m\u001B[38;5;241m.\u001B[39msize(\u001B[38;5;241m-\u001B[39m\u001B[38;5;241m1\u001B[39m):\n\u001B[1;32m    205\u001B[0m     \u001B[38;5;28;01mraise\u001B[39;00m \u001B[38;5;167;01mRuntimeError\u001B[39;00m(\n\u001B[1;32m    206\u001B[0m         \u001B[38;5;124m'\u001B[39m\u001B[38;5;124minput.size(-1) must be equal to input_size. Expected \u001B[39m\u001B[38;5;132;01m{}\u001B[39;00m\u001B[38;5;124m, got \u001B[39m\u001B[38;5;132;01m{}\u001B[39;00m\u001B[38;5;124m'\u001B[39m\u001B[38;5;241m.\u001B[39mformat(\n\u001B[1;32m    207\u001B[0m             \u001B[38;5;28mself\u001B[39m\u001B[38;5;241m.\u001B[39minput_size, \u001B[38;5;28minput\u001B[39m\u001B[38;5;241m.\u001B[39msize(\u001B[38;5;241m-\u001B[39m\u001B[38;5;241m1\u001B[39m)))\n",
      "\u001B[0;31mRuntimeError\u001B[0m: input must have 2 dimensions, got 3"
     ]
    }
   ],
   "source": [
    "\n",
    "\n",
    "device = \"cpu\"\n",
    "feature_dim = trainset[0][0].size(1)\n",
    "model = EmbeddingNetwork(feature_dim=feature_dim,\n",
    "                hidden_dim=20,\n",
    "                num_layers=1,\n",
    "                padding_value=0.,\n",
    "                max_seq_len=trainset[0][0].size(0),\n",
    "                )\n",
    "model.to(device)\n",
    "\n",
    "batch_size = 32\n",
    "batched_data  = torch.utils.data.DataLoader(\n",
    "        dataset=trainset,\n",
    "        batch_size=batch_size,\n",
    "        shuffle=True\n",
    "    )\n",
    "\n",
    "for X, T in batched_data:\n",
    "    X = X.unsqueeze(1)\n",
    "    pred = model.forward(X, T)\n",
    "    print(pred.size())\n",
    "    break\n"
   ]
  },
  {
   "cell_type": "code",
   "execution_count": null,
   "metadata": {
    "collapsed": false,
    "jupyter": {
     "outputs_hidden": false
    }
   },
   "outputs": [],
   "source": []
  }
 ],
 "metadata": {
  "kernelspec": {
   "display_name": "Python 3 (ipykernel)",
   "language": "python",
   "name": "python3"
  },
  "language_info": {
   "codemirror_mode": {
    "name": "ipython",
    "version": 3
   },
   "file_extension": ".py",
   "mimetype": "text/x-python",
   "name": "python",
   "nbconvert_exporter": "python",
   "pygments_lexer": "ipython3",
   "version": "3.9.13"
  }
 },
 "nbformat": 4,
 "nbformat_minor": 4
}
