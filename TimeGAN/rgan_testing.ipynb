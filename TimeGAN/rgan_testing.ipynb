{
 "cells": [
  {
   "cell_type": "code",
   "execution_count": 2,
   "metadata": {
    "collapsed": true
   },
   "outputs": [],
   "source": [
    "%reload_ext autoreload\n",
    "#!pip install -r requirements.txt"
   ]
  },
  {
   "cell_type": "code",
   "execution_count": 3,
   "outputs": [
    {
     "name": "stdout",
     "output_type": "stream",
     "text": [
      "100\n",
      "torch.Size([100, 3])\n"
     ]
    }
   ],
   "source": [
    "%autoreload\n",
    "from RGAN import RGAN\n",
    "from utils import *\n",
    "from trainers import *\n",
    "\n",
    "trainset = TimeGANDatasetSinus(num=100, seq_len=100, features=3, temporal=True)\n",
    "testset = TimeGANDatasetSinus(num=300, seq_len=100, features=3, temporal=True)\n",
    "print(len(trainset))\n",
    "print(trainset[0][0].size())\n"
   ],
   "metadata": {
    "collapsed": false
   }
  },
  {
   "cell_type": "code",
   "execution_count": 4,
   "outputs": [
    {
     "name": "stdout",
     "output_type": "stream",
     "text": [
      "https://app.neptune.ai/kohmann/timeGAN/e/TIMEGAN-141\n",
      "Remember to stop your run once you’ve finished logging your metadata (https://docs.neptune.ai/api/run#stop). It will be stopped automatically only when the notebook kernel/interactive console is terminated.\n",
      "\n",
      "Start Training\n"
     ]
    },
    {
     "name": "stderr",
     "output_type": "stream",
     "text": [
      "Epoch: 9, G: 0.6966, D: 1.3890: 100%|██████████| 10/10 [00:08<00:00,  1.20it/s]\n"
     ]
    },
    {
     "name": "stdout",
     "output_type": "stream",
     "text": [
      "Training Complete and model_rgan.pt saved\n",
      "\n",
      "Generating Data...Done\n"
     ]
    },
    {
     "name": "stderr",
     "output_type": "stream",
     "text": [
      "/Users/kohmann/Documents/Studie/2022 Høst/master-GAN/venv/lib/python3.9/site-packages/sklearn/manifold/_t_sne.py:800: FutureWarning: The default initialization in TSNE will change from 'random' to 'pca' in 1.2.\n",
      "  warnings.warn(\n",
      "/Users/kohmann/Documents/Studie/2022 Høst/master-GAN/venv/lib/python3.9/site-packages/sklearn/manifold/_t_sne.py:810: FutureWarning: The default learning rate in TSNE will change from 200.0 to 'auto' in 1.2.\n",
      "  warnings.warn(\n"
     ]
    },
    {
     "name": "stdout",
     "output_type": "stream",
     "text": [
      "Real std:  [1.0548065 1.0011896]\n",
      "Fake std:  [0.00605677 0.00443062]\n",
      "Shutting down background jobs, please wait a moment...\n",
      "Done!\n",
      "Waiting for the remaining 12 operations to synchronize with Neptune. Do not kill this process.\n",
      "All 12 operations synced, thanks for waiting!\n",
      "Explore the metadata in the Neptune app:\n",
      "https://app.neptune.ai/kohmann/timeGAN/e/TIMEGAN-141\n"
     ]
    }
   ],
   "source": [
    "%autoreload\n",
    "import neptune.new as neptune\n",
    "import torch\n",
    "\n",
    "run = neptune.init_run(\n",
    "    project=\"kohmann/timeGAN\",\n",
    "    name=\"rgan\",\n",
    "    tags=[\"rgan\"],\n",
    "    description=\"RGAN\",\n",
    "    source_files=[\"rgan.py\"],\n",
    "    capture_hardware_metrics=False,\n",
    "    api_token=\"eyJhcGlfYWRkcmVzcyI6Imh0dHBzOi8vYXBwLm5lcHR1bmUuYWkiLCJhcGlfdXJsIjoiaHR0cHM6Ly9hcHAubmVwdHVuZS5haSIsImFwaV9rZXkiOiI3YjFjNGY5MS1kOWU1LTRmZjgtOTNiYS0yOGI2NDdjZGYzNWUifQ==\",\n",
    ")\n",
    "\n",
    "\n",
    "device = \"cuda\" if torch.cuda.is_available() else \"cpu\"\n",
    "\n",
    "params = {\n",
    "    \"model_name\": \"model_rgan.pt\",\n",
    "    \"n_epochs\": 10,\n",
    "    \"l_rate\": 0.0001,\n",
    "    \"batch_size\": 32,\n",
    "    \"num_layers\": 2,\n",
    "    \"hidden_dim\": 20,\n",
    "    \"Z_dim\": 100,\n",
    "    \"dis_thresh\": 0.15,\n",
    "    \"dataset\": \"sinus\",\n",
    "    \"padding_value\": 0.,\n",
    "    \"feature_dim\": trainset[0][0].size(1),\n",
    "    \"max_seq_len\": trainset[0][0].size(0),\n",
    "    \"trainset_size\": len(trainset),\n",
    "    \"device\": device,\n",
    "    \"optimizer\": \"Adam\",\n",
    "}\n",
    "run[\"parameters\"] = params\n",
    "\n",
    "model = RGAN(params)\n",
    "\n",
    "rgan_trainer(model,\n",
    "                trainset,\n",
    "                batch_size=params[\"batch_size\"],\n",
    "                device=torch.device(params[\"device\"]),\n",
    "                learning_rate=params[\"l_rate\"],\n",
    "                n_epochs=params[\"n_epochs\"],\n",
    "                max_seq_len=params[\"max_seq_len\"],\n",
    "                dis_thresh=params[\"dis_thresh\"],\n",
    "                neptune_logger=run,\n",
    "                model_name=params[\"model_name\"]\n",
    "                )\n",
    "# Generate random synthetic data\n",
    "gen_z = rgan_generator(model, torch.tensor(testset.T), params[\"model_name\"], torch.device(device), testset[0][0].size(0), 100)\n",
    "\n",
    "log_visualizations(testset, gen_z, run) # logs pca, tsne, umap, mode_collapse\n",
    "run[\"model_checkpoint\"].upload(params[\"model_name\"])\n",
    "\n",
    "run.stop()"
   ],
   "metadata": {
    "collapsed": false
   }
  }
 ],
 "metadata": {
  "kernelspec": {
   "display_name": "Python 3",
   "language": "python",
   "name": "python3"
  },
  "language_info": {
   "codemirror_mode": {
    "name": "ipython",
    "version": 2
   },
   "file_extension": ".py",
   "mimetype": "text/x-python",
   "name": "python",
   "nbconvert_exporter": "python",
   "pygments_lexer": "ipython2",
   "version": "2.7.6"
  }
 },
 "nbformat": 4,
 "nbformat_minor": 0
}
