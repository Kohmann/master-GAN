{
 "cells": [
  {
   "cell_type": "code",
   "execution_count": null,
   "metadata": {
    "collapsed": false,
    "jupyter": {
     "outputs_hidden": false
    },
    "tags": []
   },
   "outputs": [],
   "source": [
    "#!ls\n",
    "#%cd master-GAN/TimeGAN\n",
    "%reload_ext autoreload\n",
    "#!pip install -r requirements.txt"
   ]
  },
  {
   "cell_type": "code",
   "execution_count": null,
   "metadata": {
    "tags": []
   },
   "outputs": [],
   "source": [
    "%autoreload\n",
    "from architectures.RTSGAN import *\n",
    "from utils import *\n",
    "from trainers import *\n",
    "import numpy as np\n",
    "np.random.seed(42)\n",
    "\n",
    "trainset = DatasetSinus(num=12, seq_len=100, alpha=0.7, noise=0)\n",
    "testset = DatasetSinus(num=600, seq_len=100, alpha=0.7, noise=0)\n",
    "#stocks_data = google_data_loading(100)\n",
    "\n",
    "#trainset =DatasetStocks(stocks_data[:-300])\n",
    "#testset =DatasetStocks(stocks_data[-300:])\n",
    "print(len(testset))\n",
    "print(testset[0][0].size())"
   ]
  },
  {
   "cell_type": "code",
   "execution_count": null,
   "metadata": {
    "collapsed": false,
    "jupyter": {
     "outputs_hidden": false
    },
    "tags": []
   },
   "outputs": [],
   "source": [
    "%autoreload\n",
    "import neptune.new as neptune\n",
    "import torch\n",
    "\n",
    "run = neptune.init_run(\n",
    "    project=\"kohmann/RTSGAN\",\n",
    "    name=\"rtsgan\",\n",
    "    tags=[],\n",
    "    description=\"test\",\n",
    "    source_files=[\"architectures/RTSGAN.py\"],\n",
    "    capture_hardware_metrics=False,\n",
    "    api_token=\"eyJhcGlfYWRkcmVzcyI6Imh0dHBzOi8vYXBwLm5lcHR1bmUuYWkiLCJhcGlfdXJsIjoiaHR0cHM6Ly9hcHAubmVwdHVuZS5haSIsImFwaV9rZXkiOiI3YjFjNGY5MS1kOWU1LTRmZjgtOTNiYS0yOGI2NDdjZGYzNWUifQ==\",\n",
    ")\n",
    "\n",
    "device = \"cuda\" if torch.cuda.is_available() else \"cpu\"\n",
    "\n",
    "params = {\n",
    "    \"model_name\": \"model_rtsgan.pt\",\n",
    "    \"n_epochs\": 50,\n",
    "    \"l_rate\": 0.0001,\n",
    "    \"l_rate_ae\": 0.001,\n",
    "    \"batch_size\": 16,\n",
    "    \"num_layers\": 2, # only affects the autoencoder\n",
    "    \"hidden_dim\": 30,\n",
    "    \"spectralnorm\": True,\n",
    "    \"optimizer\": \"RMSprop\", # RMSprop\n",
    "    \"dis_thresh\": 0.15,\n",
    "    \"d_steps\": 15,\n",
    "    \"dataset\": \"sines\",\n",
    "    \"feature_dim\": trainset[0][0].size(1),\n",
    "    \"max_seq_len\": trainset[0][0].size(0),\n",
    "    \"trainset_size\": len(trainset),\n",
    "    \"testset_size\": len(testset),\n",
    "    \"device\": device,\n",
    "    \"optimizer_ae\": \"Adam\",\n",
    "}\n",
    "params[\"Z_dim\"] = (params[\"num_layers\"] +1) * params[\"hidden_dim\"]\n",
    "run[\"parameters\"] = params\n",
    "\n",
    "model = RTSGAN(params)\n",
    "rtsgan_trainer(model, trainset, params, neptune_logger=run, continue_training=False)\n",
    "\n",
    "# Generate random synthetic data\n",
    "gen_z = rtsgan_generator(model, params)\n",
    "\n",
    "log_visualizations(testset, gen_z, run) # logs pca, tsne, umap, mode_collapse\n",
    "run[\"model_checkpoint\"].upload(params[\"model_name\"])\n",
    "\n",
    "run.stop()"
   ]
  },
  {
   "cell_type": "code",
   "execution_count": null,
   "metadata": {
    "collapsed": false,
    "jupyter": {
     "outputs_hidden": false
    },
    "tags": []
   },
   "outputs": [],
   "source": [
    "sample = 6\n",
    "plt.plot(gen_z[sample][:, 0], label=\"gen_sin1\")\n",
    "plt.plot(gen_z[sample][:, 1], label=\"gen_sin2\")\n",
    "plt.plot(gen_z[sample][:, 2], label=\"gen_sin3\")\n",
    "plt.title(\"Generated sampels\")\n",
    "plt.legend()"
   ]
  },
  {
   "cell_type": "code",
   "execution_count": null,
   "metadata": {
    "collapsed": false,
    "jupyter": {
     "outputs_hidden": false
    },
    "tags": []
   },
   "outputs": [],
   "source": [
    "sample = 4\n",
    "real_combo = create_sin3(gen_z[sample][:,0], gen_z[sample][:,1], alpha=0.7, noise=0)\n",
    "real_comb_scaled = minmaxscaler().fit_transform(torch.tensor([real_combo]))[0]\n",
    "gen_combo = gen_z[sample][:,2]\n",
    "plt.plot(real_comb_scaled, label=\"true sim3\")\n",
    "plt.plot(gen_combo, label=\"generated sim3\")\n",
    "plt.title(\"sim3 - true vs generated\")\n",
    "plt.legend()"
   ]
  },
  {
   "cell_type": "code",
   "execution_count": null,
   "metadata": {},
   "outputs": [],
   "source": [
    "%autoreload\n",
    "from metrics import compare_sin3_generation\n",
    "compare_sin3_generation(gen_z, 0.7, 0)"
   ]
  },
  {
   "cell_type": "code",
   "execution_count": null,
   "metadata": {
    "tags": []
   },
   "outputs": [],
   "source": [
    "sample = trainset.__getitem__(2)\n",
    "plt.plot(sample[0][:,0], label=\"sin1\")\n",
    "plt.plot(sample[0][:,1], label=\"sin2\")\n",
    "plt.plot(sample[0][:,2], label=\"(sin1 + sin2)/2\")\n",
    "plt.title(\"Real data\")\n",
    "plt.legend()"
   ]
  },
  {
   "cell_type": "code",
   "execution_count": null,
   "metadata": {
    "collapsed": false,
    "jupyter": {
     "outputs_hidden": false
    }
   },
   "outputs": [],
   "source": [
    "%autoreload\n",
    "p = -np.pi/2\n",
    "trainset = DatasetSinus(num=16, seq_len=100, alpha=0.7, noise=0, s1_freq=[3,3], s1_phase=[p,p], s2_freq=[3,3], s2_phase=[-p,-p])\n",
    "\n",
    "\n",
    "plt.plot(trainset[:][0][0,:,:2], label=\"sin1\")"
   ]
  },
  {
   "cell_type": "code",
   "execution_count": null,
   "outputs": [],
   "source": [],
   "metadata": {
    "collapsed": false
   }
  }
 ],
 "metadata": {
  "kernelspec": {
   "display_name": "Python 3 (ipykernel)",
   "language": "python",
   "name": "python3"
  },
  "language_info": {
   "codemirror_mode": {
    "name": "ipython",
    "version": 3
   },
   "file_extension": ".py",
   "mimetype": "text/x-python",
   "name": "python",
   "nbconvert_exporter": "python",
   "pygments_lexer": "ipython3",
   "version": "3.9.13"
  }
 },
 "nbformat": 4,
 "nbformat_minor": 4
}
