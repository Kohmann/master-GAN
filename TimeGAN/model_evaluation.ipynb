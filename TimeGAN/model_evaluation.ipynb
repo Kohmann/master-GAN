{
 "cells": [
  {
   "cell_type": "code",
   "execution_count": null,
   "metadata": {
    "collapsed": false,
    "jupyter": {
     "outputs_hidden": false
    }
   },
   "outputs": [],
   "source": [
    "import torch\n",
    "%load_ext autoreload\n",
    "import neptune.new as neptune\n",
    "from trainers import timegan_generate_data, rtsgan_generator, rgan_generator\n",
    "from utils import *\n",
    "\n",
    "# Makes sure the same testset is generated every time\n",
    "np.random.seed(42)\n",
    "alpha = 0.7\n",
    "noise = 0\n",
    "testset = DatasetSinus(num=600, seq_len=100, alpha=alpha, noise=noise)"
   ]
  },
  {
   "cell_type": "code",
   "execution_count": null,
   "metadata": {
    "collapsed": false,
    "jupyter": {
     "outputs_hidden": false
    }
   },
   "outputs": [],
   "source": [
    "plt.plot(testset[:][0][2]);"
   ]
  },
  {
   "cell_type": "code",
   "execution_count": null,
   "metadata": {
    "collapsed": false,
    "jupyter": {
     "outputs_hidden": false
    }
   },
   "outputs": [],
   "source": [
    "%autoreload\n",
    "# Models\n",
    "from architectures.timegan_cnn_DG import *\n",
    "#from architectures.timegan_cnn_D import *\n",
    "#from architectures.timegan_cnn_G import *\n",
    "#from architectures.timegan_cnn_DGER import *\n",
    "#from architectures.RGAN import *\n",
    "#from architectures.RTSGAN import *\n",
    "\n",
    "print(f\"Loading architecture: {ID}\")"
   ]
  },
  {
   "cell_type": "code",
   "execution_count": null,
   "metadata": {
    "collapsed": false,
    "jupyter": {
     "outputs_hidden": false
    }
   },
   "outputs": [],
   "source": [
    "id = \"TIMEGAN-178\" # RTSGAN-66\n",
    "#id = \"RTSGAN-66\"\n",
    "project_name = \"timeGAN\" # RTSGAN\n",
    "#project_name = \"RTSGAN\"\n",
    "\n",
    "run = neptune.init_run(\n",
    "                with_id=id, # \"TIMEGAN-84\"\n",
    "                project=\"kohmann/\" + project_name,\n",
    "    api_token=\"eyJhcGlfYWRkcmVzcyI6Imh0dHBzOi8vYXBwLm5lcHR1bmUuYWkiLCJhcGlfdXJsIjoiaHR0cHM6Ly9hcHAubmVwdHVuZS5haSIsImFwaV9rZXkiOiI3YjFjNGY5MS1kOWU1LTRmZjgtOTNiYS0yOGI2NDdjZGYzNWUifQ==\",\n",
    "                   )\n",
    "params = run[\"parameters\"].fetch()\n",
    "params[\"device\"] = \"cpu\"\n",
    "params[\"testset_size\"] = len(testset)\n",
    "#params[\"model_name\"] = \"model_checkpoint.pt\"\n",
    "\n",
    "if \"TimeGAN\" in ID:\n",
    "    model = TimeGAN(params)\n",
    "elif ID == \"RGAN\":\n",
    "    model = RGAN(params)\n",
    "elif ID == \"RTSGAN\":\n",
    "    model = RTSGAN(params)\n",
    "else:\n",
    "    raise ValueError\n",
    "model = restore_weights(model, run)\n"
   ]
  },
  {
   "cell_type": "code",
   "execution_count": null,
   "metadata": {
    "collapsed": false,
    "jupyter": {
     "outputs_hidden": false
    }
   },
   "outputs": [],
   "source": [
    "%autoreload\n",
    "np.random.seed(42)\n",
    "#fake_data = rtsgan_generator(model, params, eval=True)\n",
    "fake_data = timegan_generate_data(model, torch.tensor(testset.T), params[\"max_seq_len\"], params[\"Z_dim\"])"
   ]
  },
  {
   "cell_type": "markdown",
   "metadata": {},
   "source": [
    "#### Evaluation methods"
   ]
  },
  {
   "cell_type": "code",
   "execution_count": null,
   "metadata": {
    "collapsed": false,
    "jupyter": {
     "outputs_hidden": false
    }
   },
   "outputs": [],
   "source": [
    "run = neptune.init_run(\n",
    "    project=\"kohmann/Evaluation\",\n",
    "    name=ID,\n",
    "    description=\"\",\n",
    "    #source_files=[\"architectures/RTSGAN.py\"],\n",
    "    capture_hardware_metrics=False,\n",
    "    api_token=\"eyJhcGlfYWRkcmVzcyI6Imh0dHBzOi8vYXBwLm5lcHR1bmUuYWkiLCJhcGlfdXJsIjoiaHR0cHM6Ly9hcHAubmVwdHVuZS5haSIsImFwaV9rZXkiOiI3YjFjNGY5MS1kOWU1LTRmZjgtOTNiYS0yOGI2NDdjZGYzNWUifQ==\",\n",
    ")\n",
    "run[\"model_id\"] = ID + \"-\" + id.split('-')[-1]\n",
    "\n",
    "from metrics import compare_sin3_generation, sw_approx # sinkhorn_distance, MMD,\n",
    "np.random.seed(42)\n",
    "testset2 = DatasetSinus(num=1000, seq_len=100, alpha=alpha, noise=noise)\n",
    "mse_error = compare_sin3_generation(fake_data, 0.7, 0)\n",
    "print(f\"MSE Error: {mse_error:.5f}\")\n",
    "x = torch.tensor(fake_data)\n",
    "y = testset[:][0]\n",
    "y_2 = testset2[:][0]\n",
    "#wass_dist = sinkhorn_distance(x,y)\n",
    "#mmd = MMD(x,y)\n",
    "sw_baseline = sw_approx(y,y_2)\n",
    "sw = sw_approx(y,x)\n",
    "\n",
    "run[\"numeric_results/num_test_samples\"] = len(testset)\n",
    "run[\"numeric_results/sin3_generation_MSE_loss\"] = mse_error\n",
    "#run[\"numeric_results/wasserstein_distance_mean\"] = wass_dist.mean()\n",
    "#run[\"numeric_results/wasserstein_distance_std\"] = wass_dist.std()\n",
    "run[\"numeric_results/SW\"] = sw.item()\n",
    "run[\"numeric_results/SW_baseline\"] = sw_baseline.item()\n",
    "\n",
    "r = np.array([data[0].numpy() for data in testset])\n",
    "#sin = None\n",
    "#f_pca = visualization(r[:,:,sin][:,:,None], fake_data[:,:,sin][:,:,None], 'umap')\n",
    "run[\"PCA\"].upload(visualization(r, fake_data, 'pca'))\n",
    "run[\"tSNE\"].upload(visualization(r, fake_data, 'tsne'))\n",
    "run[\"UMAP\"].upload(visualization(r, fake_data, 'umap'))\n",
    "run.stop()"
   ]
  }
 ],
 "metadata": {
  "kernelspec": {
   "display_name": "Python 3 (ipykernel)",
   "language": "python",
   "name": "python3"
  },
  "language_info": {
   "codemirror_mode": {
    "name": "ipython",
    "version": 3
   },
   "file_extension": ".py",
   "mimetype": "text/x-python",
   "name": "python",
   "nbconvert_exporter": "python",
   "pygments_lexer": "ipython3",
   "version": "3.9.13"
  }
 },
 "nbformat": 4,
 "nbformat_minor": 4
}
