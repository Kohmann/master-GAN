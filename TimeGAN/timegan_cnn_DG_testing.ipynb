{
 "cells": [
  {
   "cell_type": "code",
   "execution_count": null,
   "metadata": {
    "collapsed": false,
    "execution": {
     "iopub.execute_input": "2022-10-21T16:44:22.351407Z",
     "iopub.status.busy": "2022-10-21T16:44:22.351003Z",
     "iopub.status.idle": "2022-10-21T16:44:22.371780Z",
     "shell.execute_reply": "2022-10-21T16:44:22.371098Z",
     "shell.execute_reply.started": "2022-10-21T16:44:22.351323Z"
    },
    "jupyter": {
     "outputs_hidden": false
    }
   },
   "outputs": [],
   "source": [
    "%reload_ext autoreload"
   ]
  },
  {
   "cell_type": "code",
   "execution_count": null,
   "metadata": {
    "execution": {
     "iopub.execute_input": "2022-10-21T16:44:23.879627Z",
     "iopub.status.busy": "2022-10-21T16:44:23.879283Z",
     "iopub.status.idle": "2022-10-21T16:44:26.912488Z",
     "shell.execute_reply": "2022-10-21T16:44:26.911799Z",
     "shell.execute_reply.started": "2022-10-21T16:44:23.879604Z"
    },
    "tags": []
   },
   "outputs": [],
   "source": [
    "%autoreload\n",
    "from timegan_cnn_DG import *\n",
    "from utils import *\n",
    "from trainers import *\n",
    "\n",
    "trainset = TimeGANDatasetSinus(num=600, seq_len=100, features=3, temporal=True)\n",
    "testset = TimeGANDatasetSinus(num=300, seq_len=100, features=3, temporal=True)\n",
    "print(len(trainset))\n",
    "print(trainset[0][0].size())\n"
   ]
  },
  {
   "cell_type": "code",
   "execution_count": null,
   "metadata": {
    "collapsed": false,
    "execution": {
     "iopub.execute_input": "2022-10-21T13:39:55.388532Z",
     "iopub.status.busy": "2022-10-21T13:39:55.387665Z",
     "iopub.status.idle": "2022-10-21T14:41:52.157389Z",
     "shell.execute_reply": "2022-10-21T14:41:52.155978Z",
     "shell.execute_reply.started": "2022-10-21T13:39:55.388492Z"
    },
    "jupyter": {
     "outputs_hidden": false
    }
   },
   "outputs": [],
   "source": [
    "%autoreload\n",
    "import neptune.new as neptune\n",
    "\n",
    "run = neptune.init_run(\n",
    "    project=\"kohmann/timeGAN\",\n",
    "    name=\"timegan_cnn_DG\",\n",
    "    tags=[\"cnn\",\"DG\" \"batchnorm\", \"temporal\"],\n",
    "    description=\"Testing e=0.98 istead of 0.7\",\n",
    "    source_files=[\"timegan_cnn_DG.py\"],\n",
    "    capture_hardware_metrics=False,\n",
    "    api_token=\"eyJhcGlfYWRkcmVzcyI6Imh0dHBzOi8vYXBwLm5lcHR1bmUuYWkiLCJhcGlfdXJsIjoiaHR0cHM6Ly9hcHAubmVwdHVuZS5haSIsImFwaV9rZXkiOiI3YjFjNGY5MS1kOWU1LTRmZjgtOTNiYS0yOGI2NDdjZGYzNWUifQ==\",\n",
    ")\n",
    "\n",
    "\n",
    "device = \"cuda\" if torch.cuda.is_available() else \"cpu\"\n",
    "\n",
    "params = {\n",
    "    \"model_name\": \"model_cnn_dg_e0_98_trial2.pt\",\n",
    "    \"n_epochs\": 2000,\n",
    "    \"l_rate\": 0.001,\n",
    "    \"batch_size\": 64,\n",
    "    \"num_layers\": 2,\n",
    "    \"hidden_dim\": 20,\n",
    "    \"Z_dim\": 100,\n",
    "    \"dis_thresh\": 0.15,\n",
    "    \"dataset\": \"sinus\",\n",
    "    \"feature_dim\": trainset[0][0].size(1),\n",
    "    \"max_seq_len\": trainset[0][0].size(0),\n",
    "    \"trainset_size\": len(trainset),\n",
    "    \"device\": device,\n",
    "    \"optimizer\": \"Adam\",\n",
    "}\n",
    "run[\"parameters\"] = params\n",
    "\n",
    "model = TimeGAN(feature_dim=params[\"feature_dim\"],\n",
    "                hidden_dim=params[\"hidden_dim\"],\n",
    "                num_layers=params[\"num_layers\"],\n",
    "                padding_value=0.,\n",
    "                Z_dim=params[\"Z_dim\"],\n",
    "                max_seq_len=params[\"max_seq_len\"],\n",
    "                batch_size=params[\"batch_size\"],\n",
    "                device=torch.device(params[\"device\"]))\n",
    "\n",
    "timegan_trainer(model,\n",
    "                trainset,\n",
    "                batch_size=params[\"batch_size\"],\n",
    "                device=torch.device(params[\"device\"]),\n",
    "                learning_rate=params[\"l_rate\"],\n",
    "                n_epochs=params[\"n_epochs\"],\n",
    "                max_seq_len=params[\"max_seq_len\"],\n",
    "                dis_thresh=params[\"dis_thresh\"],\n",
    "                neptune_logger=run,\n",
    "                model_name=params[\"model_name\"]\n",
    "                )\n",
    "# Generate random synthetic data\n",
    "gen_z = timegan_generator(model, torch.tensor(testset.T), params[\"model_name\"], torch.device(device), testset[0][0].size(0), 100)\n",
    "\n",
    "\n",
    "r = np.array([data[0].numpy() for data in testset])\n",
    "f_pca = visualization(r, gen_z, 'pca')\n",
    "run[\"PCA\"].upload(f_pca)\n",
    "plt.close(f_pca)\n",
    "f_tsne = visualization(r, gen_z, 'tsne')\n",
    "run[\"tsne\"].upload(f_tsne)\n",
    "plt.close(f_tsne)\n",
    "\n",
    "run[\"mode_collapse\"] = modeCollapseEvaluator(r, gen_z)\n",
    "run[\"model_checkpoint\"].upload(params[\"model_name\"])\n",
    "\n",
    "run.stop()"
   ]
  },
  {
   "cell_type": "code",
   "execution_count": null,
   "metadata": {
    "collapsed": false,
    "execution": {
     "iopub.execute_input": "2022-10-21T16:45:16.968824Z",
     "iopub.status.busy": "2022-10-21T16:45:16.968484Z",
     "iopub.status.idle": "2022-10-21T16:45:21.156223Z",
     "shell.execute_reply": "2022-10-21T16:45:21.155248Z",
     "shell.execute_reply.started": "2022-10-21T16:45:16.968800Z"
    },
    "jupyter": {
     "outputs_hidden": false
    }
   },
   "outputs": [],
   "source": [
    "device = \"cuda\" if torch.cuda.is_available() else \"cpu\"\n",
    "\n",
    "params = {\n",
    "    \"model_name\": \"model_cnn_dg_e0_98_trial2.pt\",\n",
    "    \"n_epochs\": 2000,\n",
    "    \"l_rate\": 0.001,\n",
    "    \"batch_size\": 64,\n",
    "    \"num_layers\": 2,\n",
    "    \"hidden_dim\": 20,\n",
    "    \"Z_dim\": 100,\n",
    "    \"dis_thresh\": 0.15,\n",
    "    \"dataset\": \"sinus\",\n",
    "    \"feature_dim\": trainset[0][0].size(1),\n",
    "    \"max_seq_len\": trainset[0][0].size(0),\n",
    "    \"trainset_size\": len(trainset),\n",
    "    \"device\": device,\n",
    "    \"optimizer\": \"Adam\",\n",
    "}\n",
    "model = TimeGAN(feature_dim=params[\"feature_dim\"],\n",
    "                hidden_dim=params[\"hidden_dim\"],\n",
    "                num_layers=params[\"num_layers\"],\n",
    "                padding_value=0.,\n",
    "                Z_dim=params[\"Z_dim\"],\n",
    "                max_seq_len=params[\"max_seq_len\"],\n",
    "                batch_size=params[\"batch_size\"],\n",
    "                device=torch.device(params[\"device\"]))\n",
    "gen_z = timegan_generator(model, torch.tensor(testset.T), \"model_cnn_dg_e0_98_trial2.pt\", torch.device(device), testset[0][0].size(0),\n",
    "                          100)"
   ]
  },
  {
   "cell_type": "code",
   "execution_count": null,
   "metadata": {
    "collapsed": false,
    "execution": {
     "iopub.execute_input": "2022-10-21T16:45:21.158468Z",
     "iopub.status.busy": "2022-10-21T16:45:21.157660Z",
     "iopub.status.idle": "2022-10-21T16:45:21.304860Z",
     "shell.execute_reply": "2022-10-21T16:45:21.304122Z",
     "shell.execute_reply.started": "2022-10-21T16:45:21.158440Z"
    },
    "jupyter": {
     "outputs_hidden": false
    }
   },
   "outputs": [],
   "source": [
    "sample = 12\n",
    "plt.plot(gen_z[sample][:, 0], label=\"gen_sin1\")\n",
    "plt.plot(gen_z[sample][:, 1], label=\"gen_sin2\")\n",
    "plt.plot(gen_z[sample][:, 2], label=\"gen_sin3\")\n",
    "plt.title(\"Generated sampels\")\n",
    "plt.legend()"
   ]
  },
  {
   "cell_type": "code",
   "execution_count": null,
   "metadata": {
    "execution": {
     "iopub.execute_input": "2022-10-21T16:46:15.678126Z",
     "iopub.status.busy": "2022-10-21T16:46:15.677257Z",
     "iopub.status.idle": "2022-10-21T16:46:15.684906Z",
     "shell.execute_reply": "2022-10-21T16:46:15.683936Z",
     "shell.execute_reply.started": "2022-10-21T16:46:15.678091Z"
    }
   },
   "outputs": [],
   "source": [
    "def create_sin3(sin1, sin2, temporal=False):\n",
    "    sin1, sin2 = np.array(sin1), np.array(sin2)\n",
    "    e = 0.98#0.7  # temporal information weight\n",
    "    seq_len = len(sin1)\n",
    "    importance = np.array([e ** i for i in range(seq_len)])\n",
    "\n",
    "    if temporal:\n",
    "        sin3 = []\n",
    "        for i in range(1, seq_len + 1):\n",
    "            sin3.append(((importance[:i][::-1] * sin1[:i] + importance[:i][::-1] * sin2[:i]) / 2).sum())\n",
    "        return sin3\n",
    "    else:\n",
    "        return [(s1 + s2) / 2 for s1, s2 in zip(sin1, sin2)]"
   ]
  },
  {
   "cell_type": "code",
   "execution_count": null,
   "metadata": {
    "collapsed": false,
    "execution": {
     "iopub.execute_input": "2022-10-21T16:46:34.341046Z",
     "iopub.status.busy": "2022-10-21T16:46:34.340338Z",
     "iopub.status.idle": "2022-10-21T16:46:34.450533Z",
     "shell.execute_reply": "2022-10-21T16:46:34.449547Z",
     "shell.execute_reply.started": "2022-10-21T16:46:34.341007Z"
    },
    "jupyter": {
     "outputs_hidden": false
    }
   },
   "outputs": [],
   "source": [
    "sample = 7\n",
    "real_combo = create_sin3(gen_z[sample][:,0], gen_z[sample][:,1], temporal=True)\n",
    "real_comb_scaled = minmaxscaler().fit_transform(torch.tensor([real_combo]))[0]\n",
    "gen_combo = gen_z[sample][:,2]\n",
    "plt.plot(real_comb_scaled, label=\"true sim3\")\n",
    "plt.plot(gen_combo, label=\"generated sim3\")\n",
    "plt.title(\"sim3 - true vs generated\")\n",
    "plt.legend()"
   ]
  },
  {
   "cell_type": "code",
   "execution_count": null,
   "metadata": {},
   "outputs": [],
   "source": []
  },
  {
   "cell_type": "code",
   "execution_count": null,
   "metadata": {
    "execution": {
     "iopub.execute_input": "2022-10-21T16:47:23.362938Z",
     "iopub.status.busy": "2022-10-21T16:47:23.362547Z",
     "iopub.status.idle": "2022-10-21T16:47:23.484425Z",
     "shell.execute_reply": "2022-10-21T16:47:23.483571Z",
     "shell.execute_reply.started": "2022-10-21T16:47:23.362909Z"
    }
   },
   "outputs": [],
   "source": [
    "sample = trainset.__getitem__(9)\n",
    "plt.plot(sample[0][:,0], label=\"sin1\")\n",
    "plt.plot(sample[0][:,1], label=\"sin2\")\n",
    "plt.plot(sample[0][:,2], label=\"(sin1 + sin2)/2\")\n",
    "plt.title(\"Real data\")\n",
    "plt.legend()"
   ]
  },
  {
   "cell_type": "code",
   "execution_count": null,
   "metadata": {
    "execution": {
     "iopub.execute_input": "2022-10-21T16:47:00.103444Z",
     "iopub.status.busy": "2022-10-21T16:47:00.102686Z",
     "iopub.status.idle": "2022-10-21T16:47:00.121879Z",
     "shell.execute_reply": "2022-10-21T16:47:00.120549Z",
     "shell.execute_reply.started": "2022-10-21T16:47:00.103415Z"
    }
   },
   "outputs": [],
   "source": [
    "real_comb = create_sin3(gen_z[sample][:,0], gen_z[sample][:,0], temporal=True)\n",
    "real_comb_scaled = minmaxscaler().fit_transform(torch.tensor([real_combo]))\n",
    "plt.plot(real_comb_scaled[0])"
   ]
  },
  {
   "cell_type": "markdown",
   "metadata": {},
   "source": [
    "### CNN layer testing"
   ]
  },
  {
   "cell_type": "code",
   "execution_count": null,
   "metadata": {
    "collapsed": false,
    "jupyter": {
     "outputs_hidden": false
    }
   },
   "outputs": [],
   "source": [
    "def printLayerShapes(layers, input):\n",
    "    for layer in layers:\n",
    "        output = layer(input)\n",
    "\n",
    "        print(f\"{type(layer).__name__:13}: {list(input.size())} --> {list(output.size())}\")\n",
    "        input = output"
   ]
  },
  {
   "cell_type": "code",
   "execution_count": null,
   "metadata": {
    "collapsed": false,
    "jupyter": {
     "outputs_hidden": false
    }
   },
   "outputs": [],
   "source": [
    "import torch\n",
    "import torch.nn as nn\n",
    "hidden_dim = 20\n",
    "max_seq_len = 100\n",
    "input = torch.randn(2, max_seq_len, hidden_dim)\n",
    "\n",
    "\n",
    "## Discriminator\n",
    "layers = nn.Sequential(\n",
    "            nn.Conv1d(in_channels=max_seq_len, out_channels=max_seq_len, kernel_size=(5), stride=2, bias=False)\n",
    "            ,nn.BatchNorm1d(max_seq_len)\n",
    "            ,nn.LeakyReLU()\n",
    "            ,nn.Conv1d(in_channels=max_seq_len, out_channels=max_seq_len, kernel_size=(7), stride=2, bias=False)\n",
    "            ,nn.Flatten(start_dim=1)\n",
    "            ,nn.BatchNorm1d(max_seq_len)\n",
    "            ,nn.LeakyReLU()\n",
    "            ,nn.Linear(max_seq_len, 1)\n",
    "        )\n",
    "print(f\"Discriminator architecture\\nInput: {input.size()}\\n\")\n",
    "printLayerShapes(layers, input)"
   ]
  },
  {
   "cell_type": "code",
   "execution_count": null,
   "metadata": {
    "collapsed": false,
    "jupyter": {
     "outputs_hidden": false
    }
   },
   "outputs": [],
   "source": [
    "## Generator architecture\n",
    "Z_dim = 50\n",
    "hidden_dim = 20\n",
    "max_seq_len = 100\n",
    "input = torch.randn(2, max_seq_len, Z_dim)\n",
    "\n",
    "\n",
    "layers = nn.Sequential(\n",
    "            nn.Conv1d(in_channels=max_seq_len, out_channels=max_seq_len, kernel_size=3, stride=2, bias=False)\n",
    "            , nn.BatchNorm1d(max_seq_len)\n",
    "            , nn.LeakyReLU()\n",
    "            , nn.Conv1d(in_channels=max_seq_len, out_channels=max_seq_len, kernel_size=5, stride=1, bias=True)\n",
    "            , nn.Sigmoid()\n",
    "        )\n",
    "\n",
    "print(f\"Generator architecture\\nInput: {input.size()}\\n\")\n",
    "printLayerShapes(layers, input)"
   ]
  },
  {
   "cell_type": "code",
   "execution_count": null,
   "outputs": [],
   "source": [
    "## Generator architecture LINEAR\n",
    "Z_dim = 1\n",
    "hidden_dim = 20\n",
    "max_seq_len = 100\n",
    "input = torch.randn(16, max_seq_len, Z_dim)\n",
    "input = input.squeeze(dim=2)\n",
    "\n",
    "\n",
    "layers = nn.Sequential(\n",
    "            nn.Linear(in_features=100, out_features=200, bias=True)\n",
    "            ,nn.LayerNorm(200)\n",
    "            ,nn.LeakyReLU()\n",
    "            ,nn.Linear(in_features=200, out_features=400, bias=True)\n",
    "            ,nn.LayerNorm(400)\n",
    "            ,nn.LeakyReLU()\n",
    "            ,nn.Linear(in_features=200, out_features=1000, bias=True)\n",
    "            ,nn.LayerNorm(400)\n",
    "            ,nn.LeakyReLU()\n",
    "        )\n",
    "\n",
    "\n",
    "print(f\"Generator architecture\\nInput: {input.size()}\\n\")\n",
    "printLayerShapes(layers, input)"
   ],
   "metadata": {
    "collapsed": false
   }
  },
  {
   "cell_type": "code",
   "execution_count": null,
   "outputs": [],
   "source": [
    "torch.randn(16,300).view(-1,100,3).size()"
   ],
   "metadata": {
    "collapsed": false
   }
  },
  {
   "cell_type": "code",
   "execution_count": null,
   "outputs": [],
   "source": [],
   "metadata": {
    "collapsed": false
   }
  },
  {
   "cell_type": "code",
   "execution_count": null,
   "outputs": [],
   "source": [],
   "metadata": {
    "collapsed": false
   }
  }
 ],
 "metadata": {
  "kernelspec": {
   "display_name": "Python 3 (ipykernel)",
   "language": "python",
   "name": "python3"
  },
  "language_info": {
   "codemirror_mode": {
    "name": "ipython",
    "version": 3
   },
   "file_extension": ".py",
   "mimetype": "text/x-python",
   "name": "python",
   "nbconvert_exporter": "python",
   "pygments_lexer": "ipython3",
   "version": "3.9.13"
  }
 },
 "nbformat": 4,
 "nbformat_minor": 4
}
