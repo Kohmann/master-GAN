{
 "cells": [
  {
   "cell_type": "code",
   "execution_count": 1,
   "metadata": {
    "collapsed": false,
    "execution": {
     "iopub.execute_input": "2022-10-21T16:44:22.351407Z",
     "iopub.status.busy": "2022-10-21T16:44:22.351003Z",
     "iopub.status.idle": "2022-10-21T16:44:22.371780Z",
     "shell.execute_reply": "2022-10-21T16:44:22.371098Z",
     "shell.execute_reply.started": "2022-10-21T16:44:22.351323Z"
    },
    "jupyter": {
     "outputs_hidden": false
    }
   },
   "outputs": [],
   "source": [
    "%reload_ext autoreload\n"
   ]
  },
  {
   "cell_type": "code",
   "execution_count": 2,
   "metadata": {
    "execution": {
     "iopub.execute_input": "2022-10-21T16:44:23.879627Z",
     "iopub.status.busy": "2022-10-21T16:44:23.879283Z",
     "iopub.status.idle": "2022-10-21T16:44:26.912488Z",
     "shell.execute_reply": "2022-10-21T16:44:26.911799Z",
     "shell.execute_reply.started": "2022-10-21T16:44:23.879604Z"
    },
    "tags": []
   },
   "outputs": [
    {
     "name": "stdout",
     "output_type": "stream",
     "text": [
      "600\n",
      "torch.Size([100, 3])\n"
     ]
    }
   ],
   "source": [
    "%autoreload\n",
    "from timegan_cnn_DG import *\n",
    "from utils import *\n",
    "from trainers import *\n",
    "\n",
    "trainset = TimeGANDatasetSinus(num=600, seq_len=100, features=3, temporal=True)\n",
    "testset = TimeGANDatasetSinus(num=300, seq_len=100, features=3, temporal=True)\n",
    "print(len(trainset))\n",
    "print(trainset[0][0].size())\n"
   ]
  },
  {
   "cell_type": "code",
   "execution_count": 10,
   "metadata": {
    "collapsed": false,
    "execution": {
     "iopub.execute_input": "2022-10-21T13:39:55.388532Z",
     "iopub.status.busy": "2022-10-21T13:39:55.387665Z",
     "iopub.status.idle": "2022-10-21T14:41:52.157389Z",
     "shell.execute_reply": "2022-10-21T14:41:52.155978Z",
     "shell.execute_reply.started": "2022-10-21T13:39:55.388492Z"
    },
    "jupyter": {
     "outputs_hidden": false
    }
   },
   "outputs": [
    {
     "name": "stdout",
     "output_type": "stream",
     "text": [
      "https://app.neptune.ai/kohmann/timeGAN/e/TIMEGAN-104\n",
      "Remember to stop your run once you’ve finished logging your metadata (https://docs.neptune.ai/api-reference/run#.stop). It will be stopped automatically only when the notebook kernel/interactive console is terminated.\n",
      "\n",
      "Start Embedding Network Training\n"
     ]
    },
    {
     "name": "stderr",
     "output_type": "stream",
     "text": [
      "Epoch: 1999, Loss: 0.0056: 100%|██████████| 2000/2000 [07:58<00:00,  4.18it/s]\n"
     ]
    },
    {
     "name": "stdout",
     "output_type": "stream",
     "text": [
      "\n",
      "Start Training with Supervised Loss Only\n"
     ]
    },
    {
     "name": "stderr",
     "output_type": "stream",
     "text": [
      "Epoch: 1999, Loss: 0.0017: 100%|██████████| 2000/2000 [04:58<00:00,  6.70it/s]\n"
     ]
    },
    {
     "name": "stdout",
     "output_type": "stream",
     "text": [
      "\n",
      "Start Joint Training\n"
     ]
    },
    {
     "name": "stderr",
     "output_type": "stream",
     "text": [
      "Epoch: 1999, E: 0.1405, G: 5.7260, D: 1.8743: 100%|██████████| 2000/2000 [48:55<00:00,  1.47s/it]\n"
     ]
    },
    {
     "name": "stdout",
     "output_type": "stream",
     "text": [
      "Training Complete and model_cnn_dg_e0_98_trial2.pt saved\n",
      "\n",
      "Generating Data...Done\n"
     ]
    },
    {
     "name": "stderr",
     "output_type": "stream",
     "text": [
      "/usr/local/lib/python3.9/dist-packages/sklearn/manifold/_t_sne.py:795: FutureWarning: The default initialization in TSNE will change from 'random' to 'pca' in 1.2.\n",
      "  warnings.warn(\n",
      "/usr/local/lib/python3.9/dist-packages/sklearn/manifold/_t_sne.py:805: FutureWarning: The default learning rate in TSNE will change from 200.0 to 'auto' in 1.2.\n",
      "  warnings.warn(\n"
     ]
    },
    {
     "name": "stdout",
     "output_type": "stream",
     "text": [
      "Real std:  [0.9590144  0.85004485]\n",
      "Fake std:  [0.8239505  0.91825837]\n",
      "Shutting down background jobs, please wait a moment...\n",
      "Done!\n",
      "Waiting for the remaining 12 operations to synchronize with Neptune. Do not kill this process.\n",
      "All 12 operations synced, thanks for waiting!\n",
      "Explore the metadata in the Neptune app:\n",
      "https://app.neptune.ai/kohmann/timeGAN/e/TIMEGAN-104\n"
     ]
    }
   ],
   "source": [
    "%autoreload\n",
    "import neptune.new as neptune\n",
    "\n",
    "run = neptune.init_run(\n",
    "    project=\"kohmann/timeGAN\",\n",
    "    name=\"timegan_cnn_DG\",\n",
    "    tags=[\"cnn\",\"DG\" \"batchnorm\", \"temporal\"],\n",
    "    description=\"Testing e=0.98 istead of 0.7\",\n",
    "    source_files=[\"timegan_cnn_DG.py\"],\n",
    "    capture_hardware_metrics=False,\n",
    "    api_token=\"eyJhcGlfYWRkcmVzcyI6Imh0dHBzOi8vYXBwLm5lcHR1bmUuYWkiLCJhcGlfdXJsIjoiaHR0cHM6Ly9hcHAubmVwdHVuZS5haSIsImFwaV9rZXkiOiI3YjFjNGY5MS1kOWU1LTRmZjgtOTNiYS0yOGI2NDdjZGYzNWUifQ==\",\n",
    ")\n",
    "\n",
    "\n",
    "device = \"cuda\" if torch.cuda.is_available() else \"cpu\"\n",
    "\n",
    "params = {\n",
    "    \"model_name\": \"model_cnn_dg_e0_98_trial2.pt\",\n",
    "    \"n_epochs\": 2000,\n",
    "    \"l_rate\": 0.001,\n",
    "    \"batch_size\": 64,\n",
    "    \"num_layers\": 2,\n",
    "    \"hidden_dim\": 20,\n",
    "    \"Z_dim\": 100,\n",
    "    \"dis_thresh\": 0.15,\n",
    "    \"dataset\": \"sinus\",\n",
    "    \"feature_dim\": trainset[0][0].size(1),\n",
    "    \"max_seq_len\": trainset[0][0].size(0),\n",
    "    \"trainset_size\": len(trainset),\n",
    "    \"device\": device,\n",
    "    \"optimizer\": \"Adam\",\n",
    "}\n",
    "run[\"parameters\"] = params\n",
    "\n",
    "model = TimeGAN(feature_dim=params[\"feature_dim\"],\n",
    "                hidden_dim=params[\"hidden_dim\"],\n",
    "                num_layers=params[\"num_layers\"],\n",
    "                padding_value=0.,\n",
    "                Z_dim=params[\"Z_dim\"],\n",
    "                max_seq_len=params[\"max_seq_len\"],\n",
    "                batch_size=params[\"batch_size\"],\n",
    "                device=torch.device(params[\"device\"]))\n",
    "\n",
    "timegan_trainer(model,\n",
    "                trainset,\n",
    "                batch_size=params[\"batch_size\"],\n",
    "                device=torch.device(params[\"device\"]),\n",
    "                learning_rate=params[\"l_rate\"],\n",
    "                n_epochs=params[\"n_epochs\"],\n",
    "                max_seq_len=params[\"max_seq_len\"],\n",
    "                dis_thresh=params[\"dis_thresh\"],\n",
    "                neptune_logger=run,\n",
    "                model_name=params[\"model_name\"]\n",
    "                )\n",
    "# Generate random synthetic data\n",
    "gen_z = timegan_generator(model, torch.tensor(testset.T), params[\"model_name\"], torch.device(device), testset[0][0].size(0), 100)\n",
    "\n",
    "\n",
    "r = np.array([data[0].numpy() for data in testset])\n",
    "f_pca = visualization(r, gen_z, 'pca')\n",
    "run[\"PCA\"].upload(f_pca)\n",
    "plt.close(f_pca)\n",
    "f_tsne = visualization(r, gen_z, 'tsne')\n",
    "run[\"tsne\"].upload(f_tsne)\n",
    "plt.close(f_tsne)\n",
    "\n",
    "run[\"mode_collapse\"] = modeCollapseEvaluator(r, gen_z)\n",
    "run[\"model_checkpoint\"].upload(params[\"model_name\"])\n",
    "\n",
    "run.stop()"
   ]
  },
  {
   "cell_type": "code",
   "execution_count": 4,
   "metadata": {
    "collapsed": false,
    "execution": {
     "iopub.execute_input": "2022-10-21T16:45:16.968824Z",
     "iopub.status.busy": "2022-10-21T16:45:16.968484Z",
     "iopub.status.idle": "2022-10-21T16:45:21.156223Z",
     "shell.execute_reply": "2022-10-21T16:45:21.155248Z",
     "shell.execute_reply.started": "2022-10-21T16:45:16.968800Z"
    },
    "jupyter": {
     "outputs_hidden": false
    }
   },
   "outputs": [
    {
     "name": "stdout",
     "output_type": "stream",
     "text": [
      "\n",
      "Generating Data...Done\n"
     ]
    }
   ],
   "source": [
    "device = \"cuda\" if torch.cuda.is_available() else \"cpu\"\n",
    "\n",
    "params = {\n",
    "    \"model_name\": \"model_cnn_dg_e0_98_trial2.pt\",\n",
    "    \"n_epochs\": 2000,\n",
    "    \"l_rate\": 0.001,\n",
    "    \"batch_size\": 64,\n",
    "    \"num_layers\": 2,\n",
    "    \"hidden_dim\": 20,\n",
    "    \"Z_dim\": 100,\n",
    "    \"dis_thresh\": 0.15,\n",
    "    \"dataset\": \"sinus\",\n",
    "    \"feature_dim\": trainset[0][0].size(1),\n",
    "    \"max_seq_len\": trainset[0][0].size(0),\n",
    "    \"trainset_size\": len(trainset),\n",
    "    \"device\": device,\n",
    "    \"optimizer\": \"Adam\",\n",
    "}\n",
    "model = TimeGAN(feature_dim=params[\"feature_dim\"],\n",
    "                hidden_dim=params[\"hidden_dim\"],\n",
    "                num_layers=params[\"num_layers\"],\n",
    "                padding_value=0.,\n",
    "                Z_dim=params[\"Z_dim\"],\n",
    "                max_seq_len=params[\"max_seq_len\"],\n",
    "                batch_size=params[\"batch_size\"],\n",
    "                device=torch.device(params[\"device\"]))\n",
    "gen_z = timegan_generator(model, torch.tensor(testset.T), \"model_cnn_dg_e0_98_trial2.pt\", torch.device(device), testset[0][0].size(0),\n",
    "                          100)"
   ]
  },
  {
   "cell_type": "code",
   "execution_count": 5,
   "metadata": {
    "collapsed": false,
    "execution": {
     "iopub.execute_input": "2022-10-21T16:45:21.158468Z",
     "iopub.status.busy": "2022-10-21T16:45:21.157660Z",
     "iopub.status.idle": "2022-10-21T16:45:21.304860Z",
     "shell.execute_reply": "2022-10-21T16:45:21.304122Z",
     "shell.execute_reply.started": "2022-10-21T16:45:21.158440Z"
    },
    "jupyter": {
     "outputs_hidden": false
    }
   },
   "outputs": [
    {
     "data": {
      "text/plain": [
       "<matplotlib.legend.Legend at 0x7fe9dc0799a0>"
      ]
     },
     "execution_count": 5,
     "metadata": {},
     "output_type": "execute_result"
    },
    {
     "data": {
      "image/png": "[encoded data removed]",
      "text/plain": [
       "<Figure size 432x288 with 1 Axes>"
      ]
     },
     "metadata": {
      "needs_background": "light"
     },
     "output_type": "display_data"
    }
   ],
   "source": [
    "sample = 12\n",
    "plt.plot(gen_z[sample][:, 0], label=\"gen_sin1\")\n",
    "plt.plot(gen_z[sample][:, 1], label=\"gen_sin2\")\n",
    "plt.plot(gen_z[sample][:, 2], label=\"gen_sin3\")\n",
    "plt.title(\"Generated sampels\")\n",
    "plt.legend()"
   ]
  },
  {
   "cell_type": "code",
   "execution_count": 8,
   "metadata": {
    "execution": {
     "iopub.execute_input": "2022-10-21T16:46:15.678126Z",
     "iopub.status.busy": "2022-10-21T16:46:15.677257Z",
     "iopub.status.idle": "2022-10-21T16:46:15.684906Z",
     "shell.execute_reply": "2022-10-21T16:46:15.683936Z",
     "shell.execute_reply.started": "2022-10-21T16:46:15.678091Z"
    }
   },
   "outputs": [],
   "source": [
    "def create_sin3(sin1, sin2, temporal=False):\n",
    "    sin1, sin2 = np.array(sin1), np.array(sin2)\n",
    "    e = 0.98#0.7  # temporal information weight\n",
    "    seq_len = len(sin1)\n",
    "    importance = np.array([e ** i for i in range(seq_len)])\n",
    "\n",
    "    if temporal:\n",
    "        sin3 = []\n",
    "        for i in range(1, seq_len + 1):\n",
    "            sin3.append(((importance[:i][::-1] * sin1[:i] + importance[:i][::-1] * sin2[:i]) / 2).sum())\n",
    "        return sin3\n",
    "    else:\n",
    "        return [(s1 + s2) / 2 for s1, s2 in zip(sin1, sin2)]"
   ]
  },
  {
   "cell_type": "code",
   "execution_count": 13,
   "metadata": {
    "collapsed": false,
    "execution": {
     "iopub.execute_input": "2022-10-21T16:46:34.341046Z",
     "iopub.status.busy": "2022-10-21T16:46:34.340338Z",
     "iopub.status.idle": "2022-10-21T16:46:34.450533Z",
     "shell.execute_reply": "2022-10-21T16:46:34.449547Z",
     "shell.execute_reply.started": "2022-10-21T16:46:34.341007Z"
    },
    "jupyter": {
     "outputs_hidden": false
    }
   },
   "outputs": [
    {
     "data": {
      "text/plain": [
       "<matplotlib.legend.Legend at 0x7fe9d454f1c0>"
      ]
     },
     "execution_count": 13,
     "metadata": {},
     "output_type": "execute_result"
    },
    {
     "data": {
      "image/png": "[encoded data removed]",
      "text/plain": [
       "<Figure size 432x288 with 1 Axes>"
      ]
     },
     "metadata": {
      "needs_background": "light"
     },
     "output_type": "display_data"
    }
   ],
   "source": [
    "sample = 7\n",
    "real_combo = create_sin3(gen_z[sample][:,0], gen_z[sample][:,1], temporal=True)\n",
    "real_comb_scaled = minmaxscaler().fit_transform(torch.tensor([real_combo]))[0]\n",
    "gen_combo = gen_z[sample][:,2]\n",
    "plt.plot(real_comb_scaled, label=\"true sim3\")\n",
    "plt.plot(gen_combo, label=\"generated sim3\")\n",
    "plt.title(\"sim3 - true vs generated\")\n",
    "plt.legend()"
   ]
  },
  {
   "cell_type": "code",
   "execution_count": null,
   "metadata": {},
   "outputs": [],
   "source": []
  },
  {
   "cell_type": "code",
   "execution_count": 21,
   "metadata": {
    "execution": {
     "iopub.execute_input": "2022-10-21T16:47:23.362938Z",
     "iopub.status.busy": "2022-10-21T16:47:23.362547Z",
     "iopub.status.idle": "2022-10-21T16:47:23.484425Z",
     "shell.execute_reply": "2022-10-21T16:47:23.483571Z",
     "shell.execute_reply.started": "2022-10-21T16:47:23.362909Z"
    }
   },
   "outputs": [
    {
     "data": {
      "text/plain": [
       "<matplotlib.legend.Legend at 0x7fe9d428beb0>"
      ]
     },
     "execution_count": 21,
     "metadata": {},
     "output_type": "execute_result"
    },
    {
     "data": {
      "image/png": "[encoded data removed]",
      "text/plain": [
       "<Figure size 432x288 with 1 Axes>"
      ]
     },
     "metadata": {
      "needs_background": "light"
     },
     "output_type": "display_data"
    }
   ],
   "source": [
    "sample = trainset.__getitem__(9)\n",
    "plt.plot(sample[0][:,0], label=\"sin1\")\n",
    "plt.plot(sample[0][:,1], label=\"sin2\")\n",
    "plt.plot(sample[0][:,2], label=\"(sin1 + sin2)/2\")\n",
    "plt.title(\"Real data\")\n",
    "plt.legend()"
   ]
  },
  {
   "cell_type": "code",
   "execution_count": 19,
   "metadata": {
    "execution": {
     "iopub.execute_input": "2022-10-21T16:47:00.103444Z",
     "iopub.status.busy": "2022-10-21T16:47:00.102686Z",
     "iopub.status.idle": "2022-10-21T16:47:00.121879Z",
     "shell.execute_reply": "2022-10-21T16:47:00.120549Z",
     "shell.execute_reply.started": "2022-10-21T16:47:00.103415Z"
    }
   },
   "outputs": [
    {
     "ename": "IndexError",
     "evalue": "only integers, slices (`:`), ellipsis (`...`), numpy.newaxis (`None`) and integer or boolean arrays are valid indices",
     "output_type": "error",
     "traceback": [
      "\u001b[0;31m---------------------------------------------------------------------------\u001b[0m",
      "\u001b[0;31mIndexError\u001b[0m                                Traceback (most recent call last)",
      "Input \u001b[0;32mIn [19]\u001b[0m, in \u001b[0;36m<cell line: 1>\u001b[0;34m()\u001b[0m\n\u001b[0;32m----> 1\u001b[0m real_comb \u001b[38;5;241m=\u001b[39m create_sin3(\u001b[43mgen_z\u001b[49m\u001b[43m[\u001b[49m\u001b[43msample\u001b[49m\u001b[43m]\u001b[49m[:,\u001b[38;5;241m0\u001b[39m], gen_z[sample][:,\u001b[38;5;241m0\u001b[39m], temporal\u001b[38;5;241m=\u001b[39m\u001b[38;5;28;01mTrue\u001b[39;00m)\n\u001b[1;32m      2\u001b[0m real_comb_scaled \u001b[38;5;241m=\u001b[39m minmaxscaler()\u001b[38;5;241m.\u001b[39mfit_transform(torch\u001b[38;5;241m.\u001b[39mtensor([real_combo]))\n\u001b[1;32m      3\u001b[0m plt\u001b[38;5;241m.\u001b[39mplot(real_comb_scaled[\u001b[38;5;241m0\u001b[39m])\n",
      "\u001b[0;31mIndexError\u001b[0m: only integers, slices (`:`), ellipsis (`...`), numpy.newaxis (`None`) and integer or boolean arrays are valid indices"
     ]
    }
   ],
   "source": [
    "real_comb = create_sin3(gen_z[sample][:,0], gen_z[sample][:,0], temporal=True)\n",
    "real_comb_scaled = minmaxscaler().fit_transform(torch.tensor([real_combo]))\n",
    "plt.plot(real_comb_scaled[0])"
   ]
  },
  {
   "cell_type": "markdown",
   "metadata": {},
   "source": [
    "### CNN layer testing"
   ]
  },
  {
   "cell_type": "code",
   "execution_count": 2,
   "metadata": {
    "collapsed": false,
    "jupyter": {
     "outputs_hidden": false
    }
   },
   "outputs": [],
   "source": [
    "def printLayerShapes(layers, input):\n",
    "    for layer in layers:\n",
    "        output = layer(input)\n",
    "        print(f\"{type(layer).__name__}: {list(input.size())} --> {list(output.size())}\")\n",
    "        input = output"
   ]
  },
  {
   "cell_type": "code",
   "execution_count": 3,
   "metadata": {
    "collapsed": false,
    "jupyter": {
     "outputs_hidden": false
    }
   },
   "outputs": [
    {
     "name": "stdout",
     "output_type": "stream",
     "text": [
      "Conv1d: [20, 100, 20] --> [20, 20, 8]\n",
      "BatchNorm1d: [20, 20, 8] --> [20, 20, 8]\n",
      "LeakyReLU: [20, 20, 8] --> [20, 20, 8]\n",
      "Conv1d: [20, 20, 8] --> [20, 40, 1]\n",
      "BatchNorm1d: [20, 40, 1] --> [20, 40, 1]\n",
      "LeakyReLU: [20, 40, 1] --> [20, 40, 1]\n",
      "Flatten: [20, 40, 1] --> [20, 40]\n",
      "Linear: [20, 40] --> [20, 1]\n"
     ]
    }
   ],
   "source": [
    "import torch\n",
    "import torch.nn as nn\n",
    "input = torch.randn(20, 100, 20)\n",
    "\n",
    "\n",
    "## Discrininator\n",
    "layers = nn.Sequential(\n",
    "            nn.Conv1d(in_channels=100, out_channels=20, kernel_size=(5), stride=2, bias=False)\n",
    "            #,nn.Flatten(start_dim=1)\n",
    "            ,nn.BatchNorm1d(20)\n",
    "            ,nn.LeakyReLU()\n",
    "            ,nn.Conv1d(in_channels=20, out_channels=40, kernel_size=(7), stride=2, bias=False)\n",
    "            #,nn.Flatten(start_dim=1)\n",
    "            ,nn.BatchNorm1d(40)\n",
    "            ,nn.LeakyReLU()\n",
    "            ,nn.Flatten(start_dim=1)\n",
    "            ,nn.Linear(40, 1)\n",
    "        )\n",
    "printLayerShapes(layers, input)"
   ]
  },
  {
   "cell_type": "code",
   "execution_count": 7,
   "metadata": {
    "collapsed": false,
    "jupyter": {
     "outputs_hidden": false
    }
   },
   "outputs": [
    {
     "name": "stdout",
     "output_type": "stream",
     "text": [
      "Generator architecture\n",
      "Input: torch.Size([20, 100, 100])\n",
      "\n",
      "Conv1d: [20, 100, 100] --> [20, 100, 48]\n",
      "BatchNorm1d: [20, 100, 48] --> [20, 100, 48]\n",
      "LeakyReLU: [20, 100, 48] --> [20, 100, 48]\n",
      "Conv1d: [20, 100, 48] --> [20, 100, 20]\n",
      "Sigmoid: [20, 100, 20] --> [20, 100, 20]\n"
     ]
    }
   ],
   "source": [
    "## Generator architecture\n",
    "input = torch.randn(20, 100, 100)\n",
    "\n",
    "layers = nn.Sequential(\n",
    "            nn.Conv1d(in_channels=100, out_channels=100, kernel_size=6, stride=2, bias=False)\n",
    "            , nn.BatchNorm1d(100)\n",
    "            , nn.LeakyReLU()\n",
    "            , nn.Conv1d(in_channels=100, out_channels=100, kernel_size=9, stride=2, bias=True)\n",
    "            , nn.Sigmoid()\n",
    "        )\n",
    "\n",
    "print(f\"Generator architecture\\nInput: {input.size()}\\n\")\n",
    "printLayerShapes(layers, input)"
   ]
  },
  {
   "cell_type": "code",
   "execution_count": 124,
   "metadata": {
    "collapsed": false,
    "jupyter": {
     "outputs_hidden": false
    }
   },
   "outputs": [
    {
     "name": "stdout",
     "output_type": "stream",
     "text": [
      "Conv1d: [20, 100, 20] --> [20, 100, 8]\n",
      "BatchNorm1d: [20, 100, 8] --> [20, 100, 8]\n",
      "LeakyReLU: [20, 100, 8] --> [20, 100, 8]\n",
      "Conv1d: [20, 100, 8] --> [20, 100, 3]\n"
     ]
    }
   ],
   "source": [
    "# Recovery\n",
    "layers = nn.Sequential(\n",
    "            nn.Conv1d(in_channels=100, out_channels=100, kernel_size=(5), stride=2, bias=False)\n",
    "            #,nn.Flatten(start_dim=1)\n",
    "            ,nn.BatchNorm1d(100)\n",
    "            ,nn.LeakyReLU()\n",
    "            ,nn.Conv1d(in_channels=100, out_channels=100, kernel_size=(3), stride=2, bias=True)\n",
    "\n",
    "        )\n",
    "printLayerShapes(layers, input)\n"
   ]
  },
  {
   "cell_type": "code",
   "execution_count": 132,
   "metadata": {
    "collapsed": false,
    "jupyter": {
     "outputs_hidden": false
    }
   },
   "outputs": [],
   "source": [
    "output = layers[0](input)"
   ]
  }
 ],
 "metadata": {
  "kernelspec": {
   "display_name": "Python 3 (ipykernel)",
   "language": "python",
   "name": "python3"
  },
  "language_info": {
   "codemirror_mode": {
    "name": "ipython",
    "version": 3
   },
   "file_extension": ".py",
   "mimetype": "text/x-python",
   "name": "python",
   "nbconvert_exporter": "python",
   "pygments_lexer": "ipython3",
   "version": "3.9.13"
  }
 },
 "nbformat": 4,
 "nbformat_minor": 4
}
