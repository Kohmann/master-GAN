{
 "cells": [
  {
   "cell_type": "code",
   "execution_count": 159,
   "metadata": {
    "collapsed": true
   },
   "outputs": [],
   "source": [
    "import numpy as np\n",
    "def conv2dSize(w, k, s, p):\n",
    "    return np.floor((w - k + 2*p) / s + 1)\n",
    "def deconv2dSize(w, k, s, p):\n",
    "    return s * (w - 1) - 2*p + k"
   ]
  },
  {
   "cell_type": "code",
   "execution_count": 197,
   "outputs": [
    {
     "name": "stdout",
     "output_type": "stream",
     "text": [
      "4\n",
      "8\n",
      "16\n",
      "32\n",
      "64\n"
     ]
    }
   ],
   "source": [
    "x1 = deconv2dSize(1, 4, 2, 0)\n",
    "print(x1)\n",
    "x2 = deconv2dSize(x1, 4, 2, 1)\n",
    "print(x2)\n",
    "x3 = deconv2dSize(x2, 4, 2, 1)\n",
    "print(x3)\n",
    "x4 = deconv2dSize(x3, 4, 2, 1)\n",
    "print(x4)\n",
    "x5 = deconv2dSize(x4, 4, 2, 1)\n",
    "print(x5)"
   ],
   "metadata": {
    "collapsed": false,
    "pycharm": {
     "name": "#%%\n"
    }
   }
  },
  {
   "cell_type": "code",
   "execution_count": 203,
   "outputs": [
    {
     "name": "stderr",
     "output_type": "stream",
     "text": [
      "/Users/Kohmis/Documents/Studie/2022 Høst/master-GAN/venv/lib/python3.7/site-packages/ipykernel_launcher.py:8: DeprecationWarning: Starting with ImageIO v3 the behavior of this function will switch to that of iio.v3.imread. To keep the current behavior (and make this warning dissapear) use `import imageio.v2 as imageio` or call `imageio.v2.imread` directly.\n",
      "  \n"
     ]
    },
    {
     "ename": "ValueError",
     "evalue": "Could not find a backend to open `image_at_epoch_0003.png`` with iomode `wI`.\nBased on the extension, the following plugins might add capable backends:\n  pyav:  pip install imageio[pyav]\n  opencv:  pip install imageio[opencv]",
     "output_type": "error",
     "traceback": [
      "\u001B[0;31m---------------------------------------------------------------------------\u001B[0m",
      "\u001B[0;31mValueError\u001B[0m                                Traceback (most recent call last)",
      "\u001B[0;32m/var/folders/nl/j2mj5xk50mzdfrydwxd9yf_00000gn/T/ipykernel_73992/3105588808.py\u001B[0m in \u001B[0;36m<module>\u001B[0;34m\u001B[0m\n\u001B[1;32m      9\u001B[0m     \u001B[0mimageio\u001B[0m\u001B[0;34m.\u001B[0m\u001B[0mmimsave\u001B[0m\u001B[0;34m(\u001B[0m\u001B[0mfilename\u001B[0m\u001B[0;34m,\u001B[0m \u001B[0mimages\u001B[0m\u001B[0;34m,\u001B[0m \u001B[0mfps\u001B[0m\u001B[0;34m=\u001B[0m\u001B[0mfps\u001B[0m\u001B[0;34m)\u001B[0m\u001B[0;34m\u001B[0m\u001B[0m\n\u001B[1;32m     10\u001B[0m \u001B[0;34m\u001B[0m\u001B[0m\n\u001B[0;32m---> 11\u001B[0;31m \u001B[0mcreate_mp4\u001B[0m\u001B[0;34m(\u001B[0m\u001B[0;34m\"images\"\u001B[0m\u001B[0;34m,\u001B[0m \u001B[0;34m\"mnist_generation.mp4\"\u001B[0m\u001B[0;34m,\u001B[0m \u001B[0mfps\u001B[0m\u001B[0;34m=\u001B[0m\u001B[0;36m30\u001B[0m\u001B[0;34m)\u001B[0m\u001B[0;34m\u001B[0m\u001B[0m\n\u001B[0m",
      "\u001B[0;32m/var/folders/nl/j2mj5xk50mzdfrydwxd9yf_00000gn/T/ipykernel_73992/3105588808.py\u001B[0m in \u001B[0;36mcreate_mp4\u001B[0;34m(path, filename, fps)\u001B[0m\n\u001B[1;32m      7\u001B[0m         \u001B[0;32mif\u001B[0m \u001B[0mfilename\u001B[0m\u001B[0;34m.\u001B[0m\u001B[0mendswith\u001B[0m\u001B[0;34m(\u001B[0m\u001B[0;34m\".png\"\u001B[0m\u001B[0;34m)\u001B[0m\u001B[0;34m:\u001B[0m\u001B[0;34m\u001B[0m\u001B[0m\n\u001B[1;32m      8\u001B[0m             \u001B[0mimages\u001B[0m\u001B[0;34m.\u001B[0m\u001B[0mappend\u001B[0m\u001B[0;34m(\u001B[0m\u001B[0mimageio\u001B[0m\u001B[0;34m.\u001B[0m\u001B[0mimread\u001B[0m\u001B[0;34m(\u001B[0m\u001B[0mos\u001B[0m\u001B[0;34m.\u001B[0m\u001B[0mpath\u001B[0m\u001B[0;34m.\u001B[0m\u001B[0mjoin\u001B[0m\u001B[0;34m(\u001B[0m\u001B[0mpath\u001B[0m\u001B[0;34m,\u001B[0m \u001B[0mfilename\u001B[0m\u001B[0;34m)\u001B[0m\u001B[0;34m)\u001B[0m\u001B[0;34m)\u001B[0m\u001B[0;34m\u001B[0m\u001B[0m\n\u001B[0;32m----> 9\u001B[0;31m     \u001B[0mimageio\u001B[0m\u001B[0;34m.\u001B[0m\u001B[0mmimsave\u001B[0m\u001B[0;34m(\u001B[0m\u001B[0mfilename\u001B[0m\u001B[0;34m,\u001B[0m \u001B[0mimages\u001B[0m\u001B[0;34m,\u001B[0m \u001B[0mfps\u001B[0m\u001B[0;34m=\u001B[0m\u001B[0mfps\u001B[0m\u001B[0;34m)\u001B[0m\u001B[0;34m\u001B[0m\u001B[0m\n\u001B[0m\u001B[1;32m     10\u001B[0m \u001B[0;34m\u001B[0m\u001B[0m\n\u001B[1;32m     11\u001B[0m \u001B[0mcreate_mp4\u001B[0m\u001B[0;34m(\u001B[0m\u001B[0;34m\"images\"\u001B[0m\u001B[0;34m,\u001B[0m \u001B[0;34m\"mnist_generation.mp4\"\u001B[0m\u001B[0;34m,\u001B[0m \u001B[0mfps\u001B[0m\u001B[0;34m=\u001B[0m\u001B[0;36m30\u001B[0m\u001B[0;34m)\u001B[0m\u001B[0;34m\u001B[0m\u001B[0m\n",
      "\u001B[0;32m~/Documents/Studie/2022 Høst/master-GAN/venv/lib/python3.7/site-packages/imageio/v2.py\u001B[0m in \u001B[0;36mmimwrite\u001B[0;34m(uri, ims, format, **kwargs)\u001B[0m\n\u001B[1;32m    328\u001B[0m     \u001B[0mimopen_args\u001B[0m \u001B[0;34m=\u001B[0m \u001B[0mdecypher_format_arg\u001B[0m\u001B[0;34m(\u001B[0m\u001B[0mformat\u001B[0m\u001B[0;34m)\u001B[0m\u001B[0;34m\u001B[0m\u001B[0m\n\u001B[1;32m    329\u001B[0m     \u001B[0mimopen_args\u001B[0m\u001B[0;34m[\u001B[0m\u001B[0;34m\"legacy_mode\"\u001B[0m\u001B[0;34m]\u001B[0m \u001B[0;34m=\u001B[0m \u001B[0;32mTrue\u001B[0m\u001B[0;34m\u001B[0m\u001B[0m\n\u001B[0;32m--> 330\u001B[0;31m     \u001B[0;32mwith\u001B[0m \u001B[0mimopen\u001B[0m\u001B[0;34m(\u001B[0m\u001B[0muri\u001B[0m\u001B[0;34m,\u001B[0m \u001B[0;34m\"wI\"\u001B[0m\u001B[0;34m,\u001B[0m \u001B[0;34m**\u001B[0m\u001B[0mimopen_args\u001B[0m\u001B[0;34m)\u001B[0m \u001B[0;32mas\u001B[0m \u001B[0mfile\u001B[0m\u001B[0;34m:\u001B[0m\u001B[0;34m\u001B[0m\u001B[0m\n\u001B[0m\u001B[1;32m    331\u001B[0m         \u001B[0;32mreturn\u001B[0m \u001B[0mfile\u001B[0m\u001B[0;34m.\u001B[0m\u001B[0mwrite\u001B[0m\u001B[0;34m(\u001B[0m\u001B[0mims\u001B[0m\u001B[0;34m,\u001B[0m \u001B[0;34m**\u001B[0m\u001B[0mkwargs\u001B[0m\u001B[0;34m)\u001B[0m\u001B[0;34m\u001B[0m\u001B[0m\n\u001B[1;32m    332\u001B[0m \u001B[0;34m\u001B[0m\u001B[0m\n",
      "\u001B[0;32m~/Documents/Studie/2022 Høst/master-GAN/venv/lib/python3.7/site-packages/imageio/core/imopen.py\u001B[0m in \u001B[0;36mimopen\u001B[0;34m(uri, io_mode, plugin, extension, format_hint, legacy_mode, **kwargs)\u001B[0m\n\u001B[1;32m    301\u001B[0m \u001B[0;34m\u001B[0m\u001B[0m\n\u001B[1;32m    302\u001B[0m     \u001B[0mrequest\u001B[0m\u001B[0;34m.\u001B[0m\u001B[0mfinish\u001B[0m\u001B[0;34m(\u001B[0m\u001B[0;34m)\u001B[0m\u001B[0;34m\u001B[0m\u001B[0m\n\u001B[0;32m--> 303\u001B[0;31m     \u001B[0;32mraise\u001B[0m \u001B[0merr_type\u001B[0m\u001B[0;34m(\u001B[0m\u001B[0merr_msg\u001B[0m\u001B[0;34m)\u001B[0m\u001B[0;34m\u001B[0m\u001B[0m\n\u001B[0m",
      "\u001B[0;31mValueError\u001B[0m: Could not find a backend to open `image_at_epoch_0003.png`` with iomode `wI`.\nBased on the extension, the following plugins might add capable backends:\n  pyav:  pip install imageio[pyav]\n  opencv:  pip install imageio[opencv]"
     ]
    }
   ],
   "source": [
    "import glob\n",
    "from PIL import Image\n",
    "\n",
    "def create_mp4(fp_in=\"images/image_*.png\", fp_out=\"images/mnist_generation.gif\"):\n",
    "\n",
    "    imgs = [Image.open(f) for f in sorted(glob.glob(fp_in))]\n",
    "      # extract first image from iterator\n",
    "    imgs[0].save(fp=fp_out, append_images=imgs,\n",
    "             save_all=True, duration=100, loop=0)\n"
   ],
   "metadata": {
    "collapsed": false,
    "pycharm": {
     "name": "#%%\n"
    }
   }
  },
  {
   "cell_type": "code",
   "execution_count": 210,
   "outputs": [],
   "source": [],
   "metadata": {
    "collapsed": false,
    "pycharm": {
     "name": "#%%\n"
    }
   }
  },
  {
   "cell_type": "code",
   "execution_count": null,
   "outputs": [],
   "source": [],
   "metadata": {
    "collapsed": false,
    "pycharm": {
     "name": "#%%\n"
    }
   }
  }
 ],
 "metadata": {
  "kernelspec": {
   "display_name": "Python 3",
   "language": "python",
   "name": "python3"
  },
  "language_info": {
   "codemirror_mode": {
    "name": "ipython",
    "version": 2
   },
   "file_extension": ".py",
   "mimetype": "text/x-python",
   "name": "python",
   "nbconvert_exporter": "python",
   "pygments_lexer": "ipython2",
   "version": "2.7.6"
  }
 },
 "nbformat": 4,
 "nbformat_minor": 0
}