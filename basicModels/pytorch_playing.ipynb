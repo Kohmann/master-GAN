{
 "cells": [
  {
   "cell_type": "code",
   "execution_count": 1,
   "metadata": {
    "collapsed": true
   },
   "outputs": [],
   "source": [
    "import torch\n",
    "from torchvision import datasets\n",
    "from torch.utils.data import DataLoader\n",
    "import matplotlib.pyplot as plt"
   ]
  },
  {
   "cell_type": "code",
   "execution_count": 3,
   "outputs": [
    {
     "name": "stderr",
     "output_type": "stream",
     "text": [
      "/Users/Kohmis/Documents/Studie/2022 Høst/master-GAN/venv/lib/python3.7/site-packages/torchvision/datasets/mnist.py:75: UserWarning: train_data has been renamed data\n",
      "  warnings.warn(\"train_data has been renamed data\")\n",
      "/Users/Kohmis/Documents/Studie/2022 Høst/master-GAN/venv/lib/python3.7/site-packages/torchvision/datasets/mnist.py:65: UserWarning: train_labels has been renamed targets\n",
      "  warnings.warn(\"train_labels has been renamed targets\")\n",
      "/Users/Kohmis/Documents/Studie/2022 Høst/master-GAN/venv/lib/python3.7/site-packages/torchvision/datasets/mnist.py:80: UserWarning: test_data has been renamed data\n",
      "  warnings.warn(\"test_data has been renamed data\")\n",
      "/Users/Kohmis/Documents/Studie/2022 Høst/master-GAN/venv/lib/python3.7/site-packages/torchvision/datasets/mnist.py:70: UserWarning: test_labels has been renamed targets\n",
      "  warnings.warn(\"test_labels has been renamed targets\")\n"
     ]
    }
   ],
   "source": [
    "mnist = datasets.MNIST('./mnist_data', train=True, download=False)\n",
    "\n",
    "from torch.utils.data import TensorDataset\n",
    "from torch.utils.data import DataLoader\n",
    "train_data = TensorDataset(mnist.train_data.reshape(-1,28*28).float()/255, mnist.train_labels)\n",
    "validation_data = TensorDataset(mnist.test_data.reshape(-1,28*28).float()/255, mnist.test_labels)\n",
    "train_dl = DataLoader(train_data, batch_size=32)\n",
    "validation_dl = DataLoader(validation_data, batch_size=32)"
   ],
   "metadata": {
    "collapsed": false,
    "pycharm": {
     "name": "#%%\n"
    }
   }
  },
  {
   "cell_type": "code",
   "execution_count": 219,
   "outputs": [
    {
     "data": {
      "text/plain": "<matplotlib.image.AxesImage at 0x7fb376ca4c88>"
     },
     "execution_count": 219,
     "metadata": {},
     "output_type": "execute_result"
    },
    {
     "data": {
      "text/plain": "<Figure size 432x288 with 1 Axes>",
      "image/png": "[encoded data removed]"
     },
     "metadata": {
      "needs_background": "light"
     },
     "output_type": "display_data"
    }
   ],
   "source": [
    "plt.imshow(mnist.test_data[0], cmap='gray')"
   ],
   "metadata": {
    "collapsed": false,
    "pycharm": {
     "name": "#%%\n"
    }
   }
  },
  {
   "cell_type": "code",
   "execution_count": 256,
   "outputs": [],
   "source": [
    "import torch.nn as nn\n",
    "from torch import optim\n",
    "import torch.nn.functional as F\n",
    "\n",
    "class simple_net(nn.Module):\n",
    "    def __init__(self):\n",
    "        super().__init__()\n",
    "        self.lin1 = nn.Linear(28*28, 10)\n",
    "        self.act1 = nn.ReLU()\n",
    "        self.lin2 = nn.Linear(10, 10)\n",
    "\n",
    "    def forward(self, x):\n",
    "        x = self.lin1(x)\n",
    "        x = self.act1(x)\n",
    "        x = self.lin2(x)\n",
    "        return x\n",
    "\n",
    "class simple_CONVnet(nn.Module):\n",
    "    def __init__(self):\n",
    "        super().__init__()\n",
    "        self.conv1 = nn.Conv2d(1, 8, kernel_size=3, stride=2, padding=1) # 28x28 -> ((28-3) + 2*1) / 2 = 14\n",
    "        self.conv2 = nn.Conv2d(8, 16, kernel_size=3, stride=2, padding=1) # 14x14 -> ((14-3) + 2*1) / 2 = 7\n",
    "        self.conv3 = nn.Conv2d(16, 32, kernel_size=3, stride=2, padding=1) # 7x7 -> ((7-3) + 2*1) / 2 = 3\n",
    "\n",
    "    def forward(self, x):\n",
    "        x = x.view(-1, 1, 28, 28) # reshapes it to be 1 channel, 28x28\n",
    "        x = F.relu(self.conv1(x))\n",
    "        x = F.relu(self.conv2(x))\n",
    "        x = F.relu(self.conv3(x))\n",
    "        x = F.avg_pool2d(x, 4) # 4x4 pooling\n",
    "        return x.view(-1, x.size(1))"
   ],
   "metadata": {
    "collapsed": false,
    "pycharm": {
     "name": "#%%\n"
    }
   }
  },
  {
   "cell_type": "code",
   "execution_count": 17,
   "outputs": [],
   "source": [
    "def get_model():\n",
    "    model = simple_CONVnet()\n",
    "    optimizer = optim.SGD(model.parameters(), lr=0.01, momentum=0.9)\n",
    "    return model, optimizer\n",
    "\n",
    "def accuracy(out, yb):\n",
    "    preds = torch.argmax(out, dim=1)\n",
    "    return (preds == yb).float().mean()"
   ],
   "metadata": {
    "collapsed": false,
    "pycharm": {
     "name": "#%%\n"
    }
   }
  },
  {
   "cell_type": "code",
   "execution_count": 18,
   "outputs": [],
   "source": [
    "def loss_batch(model, loss_fn, xb, yb, opt=None):\n",
    "    pred = model(xb)\n",
    "    loss = loss_fn(pred, yb)\n",
    "    if opt is not None:\n",
    "        loss.backward()\n",
    "        opt.step()\n",
    "        opt.zero_grad()\n",
    "    return loss.item(), len(xb)"
   ],
   "metadata": {
    "collapsed": false,
    "pycharm": {
     "name": "#%%\n"
    }
   }
  },
  {
   "cell_type": "code",
   "execution_count": 57,
   "outputs": [],
   "source": [
    "def fit(epochs, model, loss_fn, opt, train_dl, valid_dl):\n",
    "    for epoch in range(epochs):\n",
    "        model.train() # used by dropout and batchnorm\n",
    "        losses = 0\n",
    "        for xb, yb in train_dl:\n",
    "            loss, _ = loss_batch(model, loss_fn, xb, yb, opt)\n",
    "            losses += loss\n",
    "\n",
    "        print(f'epoch {epoch+1}/{epochs} loss {losses/len(train_dl)}', end=\"\")\n",
    "        model.eval()\n",
    "        with torch.no_grad():\n",
    "            valid_loss = sum(loss_fn(model(xb), yb) for xb, yb in valid_dl) / len(valid_dl)\n",
    "        print(f\", {valid_loss}, {sum(accuracy(model(xb), yb) for xb, yb in valid_dl) / len(valid_dl)}\")"
   ],
   "metadata": {
    "collapsed": false,
    "pycharm": {
     "name": "#%%\n"
    }
   }
  },
  {
   "cell_type": "code",
   "execution_count": 260,
   "outputs": [
    {
     "name": "stdout",
     "output_type": "stream",
     "text": [
      "epoch 1/5 loss 1.4808483223756155, 0.8747973442077637, 0.7307500243186951\n",
      "epoch 2/5 loss 0.6424108050386111, 0.670296311378479, 0.7911666631698608\n",
      "epoch 3/5 loss 0.49080404533545174, 0.4596674144268036, 0.8563833236694336\n",
      "epoch 4/5 loss 0.3957116898437341, 0.44130179286003113, 0.863016664981842\n",
      "epoch 5/5 loss 0.33897911948362985, 0.3579135239124298, 0.8917333483695984\n"
     ]
    }
   ],
   "source": [
    "model, opt = get_model()\n",
    "fit(5, model, F.cross_entropy, opt, train_dl, validation_dl)"
   ],
   "metadata": {
    "collapsed": false,
    "pycharm": {
     "name": "#%%\n"
    }
   }
  },
  {
   "cell_type": "code",
   "execution_count": 289,
   "outputs": [
    {
     "name": "stdout",
     "output_type": "stream",
     "text": [
      "torch.Size([32, 784]) torch.Size([32])\n"
     ]
    }
   ],
   "source": [
    "for x,y in train_dl:\n",
    "    print(x.shape, y.shape)\n",
    "    test_batch = x\n",
    "    break"
   ],
   "metadata": {
    "collapsed": false,
    "pycharm": {
     "name": "#%%\n"
    }
   }
  },
  {
   "cell_type": "code",
   "execution_count": 291,
   "outputs": [
    {
     "data": {
      "text/plain": "torch.Size([32, 784])"
     },
     "execution_count": 291,
     "metadata": {},
     "output_type": "execute_result"
    }
   ],
   "source": [
    "train_dl.dataset[0][0].view(28,28)\n",
    "test_batch.size()"
   ],
   "metadata": {
    "collapsed": false,
    "pycharm": {
     "name": "#%%\n"
    }
   }
  },
  {
   "cell_type": "code",
   "execution_count": 285,
   "outputs": [],
   "source": [
    "conv1 = nn.Conv2d(1, 16, kernel_size=3, stride=2)"
   ],
   "metadata": {
    "collapsed": false,
    "pycharm": {
     "name": "#%%\n"
    }
   }
  },
  {
   "cell_type": "code",
   "execution_count": 292,
   "outputs": [
    {
     "data": {
      "text/plain": "torch.Size([32, 16, 13, 13])"
     },
     "execution_count": 292,
     "metadata": {},
     "output_type": "execute_result"
    }
   ],
   "source": [
    "x = conv1(test_batch.view(-1, 1,28,28))\n",
    "x.size()"
   ],
   "metadata": {
    "collapsed": false,
    "pycharm": {
     "name": "#%%\n"
    }
   }
  },
  {
   "cell_type": "code",
   "execution_count": 295,
   "outputs": [
    {
     "data": {
      "text/plain": "torch.Size([32, 2704])"
     },
     "execution_count": 295,
     "metadata": {},
     "output_type": "execute_result"
    }
   ],
   "source": [
    "x.view(x.size(0), -1).size()"
   ],
   "metadata": {
    "collapsed": false,
    "pycharm": {
     "name": "#%%\n"
    }
   }
  },
  {
   "cell_type": "markdown",
   "source": [
    "# VAE"
   ],
   "metadata": {
    "collapsed": false,
    "pycharm": {
     "name": "#%% md\n"
    }
   }
  },
  {
   "cell_type": "code",
   "execution_count": 314,
   "outputs": [
    {
     "name": "stdout",
     "output_type": "stream",
     "text": [
      "The autoreload extension is already loaded. To reload it, use:\n",
      "  %reload_ext autoreload\n"
     ]
    }
   ],
   "source": [
    "%autoreload\n",
    "import torch\n",
    "from torch.utils.data import TensorDataset\n",
    "from torch import optim\n",
    "from VAE import VariationalAutoencoder, loss_fun\n",
    "from utils import *\n",
    "import torchvision\n",
    "from torchvision import datasets\n",
    "%load_ext autoreload"
   ],
   "metadata": {
    "collapsed": false,
    "pycharm": {
     "name": "#%%\n"
    }
   }
  },
  {
   "cell_type": "code",
   "execution_count": 315,
   "outputs": [],
   "source": [
    "%autoreload\n",
    "mnist = datasets.MNIST('./mnist_data', train=True, download=False)\n",
    "\n",
    "train_data = TensorDataset(mnist.train_data.float()/255, mnist.train_data.float()/255)\n",
    "validation_data = TensorDataset(mnist.test_data.float()/255, mnist.test_data.float()/255)\n",
    "train_dl, validation_dl = get_data(train_data, validation_data, 32)"
   ],
   "metadata": {
    "collapsed": false,
    "pycharm": {
     "name": "#%%\n"
    }
   }
  },
  {
   "cell_type": "code",
   "execution_count": 316,
   "outputs": [],
   "source": [
    "%autoreload\n",
    "\n",
    "latent_dim = 6\n",
    "#model = VAE(latent_size=latent_dim)\n",
    "model = VariationalAutoencoder(latent_dim=latent_dim)\n",
    "opt = optim.Adam(model.parameters(), lr=1e-3)\n",
    "loss_fn = loss_fun\n",
    "\n",
    "gen_latent_sample = torch.randn(16, latent_dim)"
   ],
   "metadata": {
    "collapsed": false,
    "pycharm": {
     "name": "#%%\n"
    }
   }
  },
  {
   "cell_type": "code",
   "execution_count": 317,
   "outputs": [],
   "source": [
    "## Setup tensorboard\n",
    "%autoreload\n",
    "from torch.utils.tensorboard import SummaryWriter\n",
    "writer = SummaryWriter(\"runs/mnist/vae\")"
   ],
   "metadata": {
    "collapsed": false,
    "pycharm": {
     "name": "#%%\n"
    }
   }
  },
  {
   "cell_type": "code",
   "execution_count": 318,
   "outputs": [
    {
     "name": "stderr",
     "output_type": "stream",
     "text": [
      "/Users/Kohmis/Documents/Studie/2022 Høst/master-GAN/venv/lib/python3.7/site-packages/torch/jit/_trace.py:991: TracerWarning: Output nr 1. of the traced function does not match the corresponding output of the Python function. Detailed error:\n",
      "Tensor-likes are not close!\n",
      "\n",
      "Mismatched elements: 719 / 784 (91.7%)\n",
      "Greatest absolute difference: 0.014431416988372803 at index (0, 16, 12) (up to 1e-05 allowed)\n",
      "Greatest relative difference: 0.024496649048540233 at index (0, 16, 12) (up to 1e-05 allowed)\n",
      "\n",
      "  _module_class,\n"
     ]
    }
   ],
   "source": [
    "writer.add_graph(model, train_dl.dataset[:1][0])"
   ],
   "metadata": {
    "collapsed": false,
    "pycharm": {
     "name": "#%%\n"
    }
   }
  },
  {
   "cell_type": "code",
   "execution_count": 319,
   "outputs": [],
   "source": [
    "def fit_VAE(epochs, model, loss_fn, opt, train_dl, valid_dl):\n",
    "    for epoch in range(epochs):\n",
    "        model.train() # used by dropout and batch norm\n",
    "        avg_loss = 0\n",
    "\n",
    "        for xb, yb in train_dl:\n",
    "            pred, mean, logvar = model(xb)\n",
    "            loss = loss_fn(yb, pred, mean, logvar, beta=1)\n",
    "            avg_loss += loss.item()\n",
    "            loss.backward()\n",
    "            opt.step()\n",
    "            opt.zero_grad()\n",
    "        writer.add_scalar('Loss/train', avg_loss/len(train_dl), epoch)\n",
    "\n",
    "        model.eval()\n",
    "        with torch.no_grad():\n",
    "            valid_loss = 0\n",
    "            for xb, yb in valid_dl:\n",
    "                pred, mean, logvar = model(xb)\n",
    "                valid_loss += loss_fn(yb, pred, mean, logvar)\n",
    "\n",
    "            gen_images = model.decode(gen_latent_sample).view(-1, 1, 28, 28)\n",
    "            image_grid = torchvision.utils.make_grid(gen_images, nrow=4)\n",
    "            writer.add_image('Reconstruction', image_grid, epoch)\n",
    "\n",
    "        writer.add_scalar('Loss/validation', valid_loss/len(valid_dl), epoch)\n",
    "        print(f\"Epoch: {epoch+1}/{epochs}, {valid_loss / len(valid_dl)}\")\n",
    "writer.close()"
   ],
   "metadata": {
    "collapsed": false,
    "pycharm": {
     "name": "#%%\n"
    }
   }
  },
  {
   "cell_type": "code",
   "execution_count": 320,
   "outputs": [
    {
     "name": "stdout",
     "output_type": "stream",
     "text": [
      "Epoch: 1/30, 10334.0244140625\n",
      "Epoch: 2/30, 8650.67578125\n",
      "Epoch: 3/30, 7971.14599609375\n",
      "Epoch: 4/30, 7543.65380859375\n",
      "Epoch: 5/30, 7459.5595703125\n",
      "Epoch: 6/30, 7327.0244140625\n",
      "Epoch: 7/30, 7259.15771484375\n",
      "Epoch: 8/30, 7244.2099609375\n",
      "Epoch: 9/30, 7274.44091796875\n",
      "Epoch: 10/30, 7241.96533203125\n",
      "Epoch: 11/30, 7232.08544921875\n",
      "Epoch: 12/30, 7276.48681640625\n",
      "Epoch: 13/30, 7171.4052734375\n",
      "Epoch: 14/30, 7205.76123046875\n",
      "Epoch: 15/30, 7123.5869140625\n",
      "Epoch: 16/30, 7276.16259765625\n",
      "Epoch: 17/30, 7217.439453125\n",
      "Epoch: 18/30, 7176.923828125\n",
      "Epoch: 19/30, 7223.1552734375\n",
      "Epoch: 20/30, 7171.5771484375\n",
      "Epoch: 21/30, 7251.16845703125\n",
      "Epoch: 22/30, 7187.99462890625\n",
      "Epoch: 23/30, 7190.57470703125\n",
      "Epoch: 24/30, 7125.3154296875\n",
      "Epoch: 25/30, 7154.0458984375\n",
      "Epoch: 26/30, 7157.8916015625\n",
      "Epoch: 27/30, 7211.9306640625\n",
      "Epoch: 28/30, 7143.09228515625\n",
      "Epoch: 29/30, 7273.99072265625\n",
      "Epoch: 30/30, 7256.98681640625\n"
     ]
    }
   ],
   "source": [
    "%autoreload\n",
    "fit_VAE(30, model, loss_fn, opt, train_dl, validation_dl)"
   ],
   "metadata": {
    "collapsed": false,
    "pycharm": {
     "name": "#%%\n"
    }
   }
  },
  {
   "cell_type": "code",
   "execution_count": 321,
   "outputs": [
    {
     "name": "stdout",
     "output_type": "stream",
     "text": [
      "torch.Size([6, 28, 28])\n"
     ]
    },
    {
     "data": {
      "text/plain": "<Figure size 432x288 with 1 Axes>",
      "image/png": "[encoded data removed]"
     },
     "metadata": {
      "needs_background": "light"
     },
     "output_type": "display_data"
    },
    {
     "data": {
      "text/plain": "<Figure size 432x288 with 1 Axes>",
      "image/png": "[encoded data removed]"
     },
     "metadata": {
      "needs_background": "light"
     },
     "output_type": "display_data"
    },
    {
     "data": {
      "text/plain": "<Figure size 432x288 with 1 Axes>",
      "image/png": "[encoded data removed]"
     },
     "metadata": {
      "needs_background": "light"
     },
     "output_type": "display_data"
    },
    {
     "data": {
      "text/plain": "<Figure size 432x288 with 1 Axes>",
      "image/png": "[encoded data removed]"
     },
     "metadata": {
      "needs_background": "light"
     },
     "output_type": "display_data"
    },
    {
     "data": {
      "text/plain": "<Figure size 432x288 with 1 Axes>",
      "image/png": "[encoded data removed]"
     },
     "metadata": {
      "needs_background": "light"
     },
     "output_type": "display_data"
    },
    {
     "data": {
      "text/plain": "<Figure size 432x288 with 1 Axes>",
      "image/png": "[encoded data removed]"
     },
     "metadata": {
      "needs_background": "light"
     },
     "output_type": "display_data"
    }
   ],
   "source": [
    "import matplotlib.pyplot as plt\n",
    "\n",
    "# GENERATION\n",
    "with torch.no_grad():\n",
    "    z = torch.randn(6, latent_dim)\n",
    "    pred = model.decode(z)\n",
    "    print(pred.size())\n",
    "    for im in pred:\n",
    "        plt.imshow(im.view(28,28), cmap='gray')\n",
    "        plt.show()\n"
   ],
   "metadata": {
    "collapsed": false,
    "pycharm": {
     "name": "#%%\n"
    }
   }
  },
  {
   "cell_type": "code",
   "execution_count": 322,
   "outputs": [
    {
     "name": "stdout",
     "output_type": "stream",
     "text": [
      "torch.Size([1, 28, 28])\n"
     ]
    },
    {
     "data": {
      "text/plain": "<Figure size 432x288 with 1 Axes>",
      "image/png": "[encoded data removed]"
     },
     "metadata": {
      "needs_background": "light"
     },
     "output_type": "display_data"
    },
    {
     "name": "stdout",
     "output_type": "stream",
     "text": [
      "torch.Size([1, 28, 28])\n"
     ]
    },
    {
     "data": {
      "text/plain": "<Figure size 432x288 with 1 Axes>",
      "image/png": "[encoded data removed]"
     },
     "metadata": {
      "needs_background": "light"
     },
     "output_type": "display_data"
    },
    {
     "name": "stdout",
     "output_type": "stream",
     "text": [
      "torch.Size([1, 28, 28])\n"
     ]
    },
    {
     "data": {
      "text/plain": "<Figure size 432x288 with 1 Axes>",
      "image/png": "[encoded data removed]"
     },
     "metadata": {
      "needs_background": "light"
     },
     "output_type": "display_data"
    },
    {
     "name": "stdout",
     "output_type": "stream",
     "text": [
      "torch.Size([1, 28, 28])\n"
     ]
    },
    {
     "data": {
      "text/plain": "<Figure size 432x288 with 1 Axes>",
      "image/png": "[encoded data removed]"
     },
     "metadata": {
      "needs_background": "light"
     },
     "output_type": "display_data"
    },
    {
     "name": "stdout",
     "output_type": "stream",
     "text": [
      "torch.Size([1, 28, 28])\n"
     ]
    },
    {
     "data": {
      "text/plain": "<Figure size 432x288 with 1 Axes>",
      "image/png": "[encoded data removed]"
     },
     "metadata": {
      "needs_background": "light"
     },
     "output_type": "display_data"
    }
   ],
   "source": [
    "# RECONSTRUCTION\n",
    "with torch.no_grad():\n",
    "    i = 1\n",
    "    for i in range(5):\n",
    "        xb, _ = train_dl.dataset[i]\n",
    "        pred = model(xb)\n",
    "        print(pred[0].size())\n",
    "        plt.imshow(pred[0][0], cmap='gray')\n",
    "        plt.show()\n",
    "        i += 1"
   ],
   "metadata": {
    "collapsed": false,
    "pycharm": {
     "name": "#%%\n"
    }
   }
  },
  {
   "cell_type": "code",
   "execution_count": null,
   "outputs": [],
   "source": [],
   "metadata": {
    "collapsed": false,
    "pycharm": {
     "name": "#%%\n"
    }
   }
  }
 ],
 "metadata": {
  "kernelspec": {
   "display_name": "Python 3",
   "language": "python",
   "name": "python3"
  },
  "language_info": {
   "codemirror_mode": {
    "name": "ipython",
    "version": 2
   },
   "file_extension": ".py",
   "mimetype": "text/x-python",
   "name": "python",
   "nbconvert_exporter": "python",
   "pygments_lexer": "ipython2",
   "version": "2.7.6"
  }
 },
 "nbformat": 4,
 "nbformat_minor": 0
}